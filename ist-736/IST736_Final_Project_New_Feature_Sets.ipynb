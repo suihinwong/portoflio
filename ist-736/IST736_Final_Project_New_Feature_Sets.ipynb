{
 "cells": [
  {
   "cell_type": "markdown",
   "id": "039dd4e4",
   "metadata": {},
   "source": [
    "## Input"
   ]
  },
  {
   "cell_type": "code",
   "execution_count": 1,
   "id": "2839550f",
   "metadata": {},
   "outputs": [],
   "source": [
    "import pandas as pd\n",
    "df = pd.read_csv(r'C:\\Users\\Morga\\programsMG\\TextMining\\Tweets.csv')"
   ]
  },
  {
   "cell_type": "code",
   "execution_count": 2,
   "id": "5bfd3def",
   "metadata": {},
   "outputs": [],
   "source": [
    "# Dropping the row \n",
    "df.drop([314], inplace = True)"
   ]
  },
  {
   "cell_type": "code",
   "execution_count": 3,
   "id": "babf04c5",
   "metadata": {},
   "outputs": [
    {
     "data": {
      "text/html": [
       "<div>\n",
       "<style scoped>\n",
       "    .dataframe tbody tr th:only-of-type {\n",
       "        vertical-align: middle;\n",
       "    }\n",
       "\n",
       "    .dataframe tbody tr th {\n",
       "        vertical-align: top;\n",
       "    }\n",
       "\n",
       "    .dataframe thead th {\n",
       "        text-align: right;\n",
       "    }\n",
       "</style>\n",
       "<table border=\"1\" class=\"dataframe\">\n",
       "  <thead>\n",
       "    <tr style=\"text-align: right;\">\n",
       "      <th></th>\n",
       "      <th>textID</th>\n",
       "      <th>text</th>\n",
       "      <th>selected_text</th>\n",
       "      <th>sentiment</th>\n",
       "    </tr>\n",
       "  </thead>\n",
       "  <tbody>\n",
       "    <tr>\n",
       "      <th>0</th>\n",
       "      <td>cb774db0d1</td>\n",
       "      <td>I`d have responded, if I were going</td>\n",
       "      <td>I`d have responded, if I were going</td>\n",
       "      <td>neutral</td>\n",
       "    </tr>\n",
       "    <tr>\n",
       "      <th>1</th>\n",
       "      <td>549e992a42</td>\n",
       "      <td>Sooo SAD I will miss you here in San Diego!!!</td>\n",
       "      <td>Sooo SAD</td>\n",
       "      <td>negative</td>\n",
       "    </tr>\n",
       "    <tr>\n",
       "      <th>2</th>\n",
       "      <td>088c60f138</td>\n",
       "      <td>my boss is bullying me...</td>\n",
       "      <td>bullying me</td>\n",
       "      <td>negative</td>\n",
       "    </tr>\n",
       "    <tr>\n",
       "      <th>3</th>\n",
       "      <td>9642c003ef</td>\n",
       "      <td>what interview! leave me alone</td>\n",
       "      <td>leave me alone</td>\n",
       "      <td>negative</td>\n",
       "    </tr>\n",
       "    <tr>\n",
       "      <th>4</th>\n",
       "      <td>358bd9e861</td>\n",
       "      <td>Sons of ****, why couldn`t they put them on t...</td>\n",
       "      <td>Sons of ****,</td>\n",
       "      <td>negative</td>\n",
       "    </tr>\n",
       "    <tr>\n",
       "      <th>...</th>\n",
       "      <td>...</td>\n",
       "      <td>...</td>\n",
       "      <td>...</td>\n",
       "      <td>...</td>\n",
       "    </tr>\n",
       "    <tr>\n",
       "      <th>27476</th>\n",
       "      <td>4eac33d1c0</td>\n",
       "      <td>wish we could come see u on Denver  husband l...</td>\n",
       "      <td>d lost</td>\n",
       "      <td>negative</td>\n",
       "    </tr>\n",
       "    <tr>\n",
       "      <th>27477</th>\n",
       "      <td>4f4c4fc327</td>\n",
       "      <td>I`ve wondered about rake to.  The client has ...</td>\n",
       "      <td>, don`t force</td>\n",
       "      <td>negative</td>\n",
       "    </tr>\n",
       "    <tr>\n",
       "      <th>27478</th>\n",
       "      <td>f67aae2310</td>\n",
       "      <td>Yay good for both of you. Enjoy the break - y...</td>\n",
       "      <td>Yay good for both of you.</td>\n",
       "      <td>positive</td>\n",
       "    </tr>\n",
       "    <tr>\n",
       "      <th>27479</th>\n",
       "      <td>ed167662a5</td>\n",
       "      <td>But it was worth it  ****.</td>\n",
       "      <td>But it was worth it  ****.</td>\n",
       "      <td>positive</td>\n",
       "    </tr>\n",
       "    <tr>\n",
       "      <th>27480</th>\n",
       "      <td>6f7127d9d7</td>\n",
       "      <td>All this flirting going on - The ATG smiles...</td>\n",
       "      <td>All this flirting going on - The ATG smiles. Y...</td>\n",
       "      <td>neutral</td>\n",
       "    </tr>\n",
       "  </tbody>\n",
       "</table>\n",
       "<p>27480 rows × 4 columns</p>\n",
       "</div>"
      ],
      "text/plain": [
       "           textID                                               text  \\\n",
       "0      cb774db0d1                I`d have responded, if I were going   \n",
       "1      549e992a42      Sooo SAD I will miss you here in San Diego!!!   \n",
       "2      088c60f138                          my boss is bullying me...   \n",
       "3      9642c003ef                     what interview! leave me alone   \n",
       "4      358bd9e861   Sons of ****, why couldn`t they put them on t...   \n",
       "...           ...                                                ...   \n",
       "27476  4eac33d1c0   wish we could come see u on Denver  husband l...   \n",
       "27477  4f4c4fc327   I`ve wondered about rake to.  The client has ...   \n",
       "27478  f67aae2310   Yay good for both of you. Enjoy the break - y...   \n",
       "27479  ed167662a5                         But it was worth it  ****.   \n",
       "27480  6f7127d9d7     All this flirting going on - The ATG smiles...   \n",
       "\n",
       "                                           selected_text sentiment  \n",
       "0                    I`d have responded, if I were going   neutral  \n",
       "1                                               Sooo SAD  negative  \n",
       "2                                            bullying me  negative  \n",
       "3                                         leave me alone  negative  \n",
       "4                                          Sons of ****,  negative  \n",
       "...                                                  ...       ...  \n",
       "27476                                             d lost  negative  \n",
       "27477                                      , don`t force  negative  \n",
       "27478                          Yay good for both of you.  positive  \n",
       "27479                         But it was worth it  ****.  positive  \n",
       "27480  All this flirting going on - The ATG smiles. Y...   neutral  \n",
       "\n",
       "[27480 rows x 4 columns]"
      ]
     },
     "execution_count": 3,
     "metadata": {},
     "output_type": "execute_result"
    }
   ],
   "source": [
    "df"
   ]
  },
  {
   "cell_type": "markdown",
   "id": "f9c148ae",
   "metadata": {},
   "source": [
    "## Preprocessing"
   ]
  },
  {
   "cell_type": "code",
   "execution_count": 4,
   "id": "600b3f04",
   "metadata": {},
   "outputs": [],
   "source": [
    "#seperating the label\n",
    "y=df['sentiment'].values\n",
    "M=df['text'].tolist()"
   ]
  },
  {
   "cell_type": "code",
   "execution_count": 5,
   "id": "fe3348d7",
   "metadata": {},
   "outputs": [],
   "source": [
    "import re\n",
    "X1=[]\n",
    "for item in M:\n",
    "    X1.append(re.sub(r'([a-zA-Z0-9_<>-])\\1+', r'\\1\\1', item))"
   ]
  },
  {
   "cell_type": "code",
   "execution_count": 6,
   "id": "8d380e56",
   "metadata": {},
   "outputs": [],
   "source": [
    "tempX=[]\n",
    "for item in X1:\n",
    "    iteml=item.lower()\n",
    "    item1=iteml.replace('2day ','today ')\n",
    "    item2=item1.replace('2moro ','tomorrow ')\n",
    "    item3=item2.replace('2morrow ','tomorrow ')\n",
    "    item4=item3.replace('2night ','tonight ')\n",
    "    item5=item4.replace('2nite ','tonight ')\n",
    "    item6=item5.replace('b-day ','birthday ')\n",
    "    item7=item6.replace('b4 ','before ')\n",
    "    item8=item7.replace('bb ','be back ')\n",
    "    item9=item8.replace('bbl ','be back later ')\n",
    "    item10=item9.replace('bc ','because ')\n",
    "    item11=item10.replace('bday ','birthday ')\n",
    "    item12=item11.replace('belive ','believe ')\n",
    "    item13=item12.replace('bf ','boyfriend ')\n",
    "    item14=item13.replace('bff ','best freind forever ')\n",
    "    item15=item14.replace('brb ','be right back ')\n",
    "    item16=item15.replace('bros ','bro ')\n",
    "    item17=item16.replace('bs ','bullshit ')\n",
    "    item18=item17.replace('btw ','by the way ')\n",
    "    item19=item18.replace('dat ','that ')\n",
    "    item20=item19.replace('doc ','doctor ')\n",
    "    item21=item20.replace('docs ','doctor ')\n",
    "    item22=item21.replace('hott ','hot ')\n",
    "    item23=item22.replace('fb ','facebook ')\n",
    "    item24=item23.replace('jk ','just kidding ')\n",
    "    item25=item24.replace('jst ','just ')\n",
    "    item26=item25.replace(' ng ',' nice game ')\n",
    "    item27=item26.replace('nt ','nice try ')\n",
    "    item28=item27.replace('ok ','okay ')\n",
    "    item29=item28.replace('okayy ','okay ')\n",
    "    item30=item29.replace('omgg ','omg ')\n",
    "    item31=item30.replace('ppl ','people ')\n",
    "    item32=item31.replace('tonite ','tonight ')\n",
    "    item33=item32.replace(' u ',' you ')\n",
    "    item34=item33.replace('u2 ','you too ')\n",
    "    item35=item34.replace('ugg ','ugh ')\n",
    "    item36=item35.replace('uggh ','ugh ')\n",
    "    item37=item36.replace('uh ','ugh ')\n",
    "    item38=item37.replace('uhh ','ugh ')\n",
    "    item39=item38.replace('umm ','um ')\n",
    "    item40=item39.replace('ur ','your ')\n",
    "    item41=item40.replace('waah ','waa ')\n",
    "    item42=item41.replace('wah ','waa ')\n",
    "    item43=item42.replace('waay ','waa ')\n",
    "    item44=item43.replace('xoxo ','xo ')\n",
    "    item45=item44.replace('xx ','xo ')\n",
    "    item46=item45.replace(' y ',' why ')\n",
    "    item47=item46.replace('whyy ','why ')\n",
    "    item48=item47.replace('yaay ','ya ')\n",
    "    item49=item48.replace('yah ','ya ')\n",
    "    item50=item49.replace('juss ','just ')\n",
    "    item51=item50.replace('whassqoodd ','whats good') \n",
    "    item52=item51.replace('soo ','so ')\n",
    "    tempX.append(item52)"
   ]
  },
  {
   "cell_type": "code",
   "execution_count": 7,
   "id": "ecc0ac9a",
   "metadata": {},
   "outputs": [],
   "source": [
    "# import TweetTokenizer() method from nltk\n",
    "from nltk.tokenize import TweetTokenizer\n",
    "tk = TweetTokenizer()"
   ]
  },
  {
   "cell_type": "code",
   "execution_count": 8,
   "id": "674d0bb0",
   "metadata": {},
   "outputs": [],
   "source": [
    "# create a function for the tweet tokenizer from NLTK\n",
    "def tok(text):\n",
    "    tt = TweetTokenizer()\n",
    "    return tt.tokenize(text)"
   ]
  },
  {
   "cell_type": "code",
   "execution_count": 9,
   "id": "7c64a049",
   "metadata": {},
   "outputs": [],
   "source": [
    "#selecting the stop words\n",
    "stopwords =['!','#','$','%','&',\"'\",'*','(',')','+', ',','-','.','/',':',';','<','=','>'\n",
    "              ,'?','@','[','\\\\',']','^','_','`','{','|','}','~','¿','#bgt','#fail','#fb'\n",
    "              ,'#ff','#followfriday','#hhrs','#judday','#sanctuarysunday','#starwarsday'\n",
    "              ,'#twpp','>','_','_127','__','_b','_benson','_c','_carter','_d','_guy','_henrie'\n",
    "              ,'_j','_m','_marie','_skies','_x','_xo']\n"
   ]
  },
  {
   "cell_type": "code",
   "execution_count": 10,
   "id": "cbe9a64f",
   "metadata": {},
   "outputs": [],
   "source": [
    "# creating a function for the pipeline to remove stop words\n",
    "def remove_stop(tokens):\n",
    "    return [t for t in tokens if t not in stopwords]"
   ]
  },
  {
   "cell_type": "code",
   "execution_count": 11,
   "id": "10d079e1",
   "metadata": {},
   "outputs": [],
   "source": [
    "# creating a function to use each function from the pipeline on the texts\n",
    "def prepare(text, pipeline):\n",
    "    tokens = text\n",
    "    for transform in pipeline:\n",
    "        tokens = transform(tokens)\n",
    "    return tokens     "
   ]
  },
  {
   "cell_type": "code",
   "execution_count": 12,
   "id": "3a377437",
   "metadata": {},
   "outputs": [],
   "source": [
    "# selecting the functions for the pipeline\n",
    "pipeline = [tok,remove_stop,]\n",
    "# using the pipelined list of functions.\n",
    "Xtemp=[]\n",
    "for tweet in tempX:\n",
    "    Xtemp.append(prepare(tweet,pipeline))"
   ]
  },
  {
   "cell_type": "code",
   "execution_count": 13,
   "id": "374ab959",
   "metadata": {},
   "outputs": [],
   "source": [
    "#creating a new list\n",
    "X=[]\n",
    "#joining the lists of lists\n",
    "#so a list of stirngs remains\n",
    "for tweet in Xtemp:\n",
    "    X.append(' '.join(tweet))"
   ]
  },
  {
   "cell_type": "markdown",
   "id": "0cf7b9b2",
   "metadata": {},
   "source": [
    "## New feature set vectorization and df creation"
   ]
  },
  {
   "cell_type": "code",
   "execution_count": 14,
   "id": "4f0b8717",
   "metadata": {},
   "outputs": [],
   "source": [
    "from nltk.stem.porter import PorterStemmer\n",
    "from sklearn.feature_extraction.text import TfidfVectorizer\n",
    "\n",
    "stemmer = PorterStemmer()\n",
    "analyzer = TfidfVectorizer().build_analyzer()\n",
    "\n",
    "def stemmed_words(doc):\n",
    "    return (stemmer.stem(w) for w in analyzer(doc))"
   ]
  },
  {
   "cell_type": "code",
   "execution_count": 15,
   "id": "f9f9143c",
   "metadata": {},
   "outputs": [],
   "source": [
    "# import the LinearSVC module\n",
    "from sklearn.svm import LinearSVC\n",
    "from sklearn.naive_bayes import MultinomialNB\n",
    "from sklearn.model_selection import cross_val_score\n",
    "from sklearn.feature_extraction.text import TfidfVectorizer\n",
    "# Best vectorization options for SVM\n",
    "unigram_tfidf_vectorizer_Tweet_toke_no_stop_stem = TfidfVectorizer(encoding='latin-1'\n",
    "                                                                   , use_idf=True\n",
    "                                                                   , min_df=5\n",
    "                                                                   ,tokenizer=tok\n",
    "                                                                   ,analyzer=stemmed_words)\n",
    "# Best vectorization options for MNB\n",
    "ngram_tfidf_vectorizer_Tweet_toke_no_stop_ngram = TfidfVectorizer(encoding='latin-1'\n",
    "                                                                  , ngram_range=(1,2)\n",
    "                                                                  , use_idf=True\n",
    "                                                                  , min_df=5\n",
    "                                                                  , tokenizer=tok)\n",
    "#vectorizing \n",
    "vecs = unigram_tfidf_vectorizer_Tweet_toke_no_stop_stem.fit_transform(X)\n",
    "# adding the vectors created into a data frame\n",
    "vecsdf=pd.DataFrame(vecs.toarray(),\n",
    "            columns=unigram_tfidf_vectorizer_Tweet_toke_no_stop_stem.get_feature_names_out())\n",
    "#vectorizing \n",
    "vecs2 = ngram_tfidf_vectorizer_Tweet_toke_no_stop_ngram.fit_transform(X)\n",
    "# adding the vectors created into a data frame\n",
    "vecs2df=pd.DataFrame(vecs2.toarray(),\n",
    "            columns=ngram_tfidf_vectorizer_Tweet_toke_no_stop_ngram.get_feature_names_out())"
   ]
  },
  {
   "cell_type": "code",
   "execution_count": 16,
   "id": "ef597da5",
   "metadata": {},
   "outputs": [],
   "source": [
    "from sklearn.svm import LinearSVC\n",
    "from sklearn.naive_bayes import MultinomialNB\n",
    "svm8 = LinearSVC(C=1)\n",
    "mnb8= MultinomialNB()"
   ]
  },
  {
   "cell_type": "code",
   "execution_count": 17,
   "id": "c252a30a",
   "metadata": {},
   "outputs": [],
   "source": [
    "#creating empty dict to add the accuracys into\n",
    "svm_fs_accurracy={}\n",
    "mnb_fs_accurracy={}"
   ]
  },
  {
   "cell_type": "code",
   "execution_count": 18,
   "id": "00f8e3b0",
   "metadata": {},
   "outputs": [],
   "source": [
    "from sklearn.svm import LinearSVC\n",
    "from sklearn.naive_bayes import MultinomialNB\n",
    "svm8 = LinearSVC(C=1)\n",
    "mnb8= MultinomialNB()\n",
    "import numpy as np\n",
    "#train model\n",
    "#svm_model_http = svm8.fit(vecs2df,y)\n",
    "#cross validation score\n",
    "svm_cv_scores = cross_val_score(svm8, vecsdf, y, cv=10)\n",
    "mnb_cv_scores = cross_val_score(mnb8, vecsdf, y, cv=10)\n",
    "#finding the overall average accuracy.\n",
    "svm_cv_score = np.mean(svm_cv_scores)\n",
    "mnb_cv_score = np.mean(mnb_cv_scores)\n",
    "svm_fs_accurracy['Original svm Accuracy']=svm_cv_score\n",
    "mnb_fs_accurracy['Original mnb Accuracy']=mnb_cv_score"
   ]
  },
  {
   "cell_type": "markdown",
   "id": "75a01df4",
   "metadata": {},
   "source": [
    "## new feature creation HTTP"
   ]
  },
  {
   "cell_type": "code",
   "execution_count": 19,
   "id": "2a194bda",
   "metadata": {},
   "outputs": [],
   "source": [
    "toktext=[]\n",
    "for item in Xtemp:\n",
    "    toktext.append(item)"
   ]
  },
  {
   "cell_type": "code",
   "execution_count": 20,
   "id": "4e7e7f45",
   "metadata": {},
   "outputs": [
    {
     "name": "stdout",
     "output_type": "stream",
     "text": [
      "27480\n",
      "27480\n"
     ]
    }
   ],
   "source": [
    "print(len(X))\n",
    "print(len(toktext))"
   ]
  },
  {
   "cell_type": "code",
   "execution_count": 21,
   "id": "3b383a5f",
   "metadata": {},
   "outputs": [],
   "source": [
    "http_count = []\n",
    "for item in toktext:\n",
    "    for word in item:\n",
    "        count=0\n",
    "        if word.startswith('http'):\n",
    "            count = count+1\n",
    "        else:\n",
    "            continue\n",
    "    http_count.append(count)"
   ]
  },
  {
   "cell_type": "code",
   "execution_count": 22,
   "id": "6533a050",
   "metadata": {},
   "outputs": [
    {
     "data": {
      "text/plain": [
       "27480"
      ]
     },
     "execution_count": 22,
     "metadata": {},
     "output_type": "execute_result"
    }
   ],
   "source": [
    "len(http_count)"
   ]
  },
  {
   "cell_type": "code",
   "execution_count": 23,
   "id": "2ca680b8",
   "metadata": {},
   "outputs": [],
   "source": [
    "vecsdf['http_count']=http_count"
   ]
  },
  {
   "cell_type": "code",
   "execution_count": 24,
   "id": "7169c88b",
   "metadata": {},
   "outputs": [],
   "source": [
    "vecs2df['http_count']=http_count"
   ]
  },
  {
   "cell_type": "code",
   "execution_count": 25,
   "id": "c94c56a6",
   "metadata": {},
   "outputs": [],
   "source": [
    "svm9 = LinearSVC(C=1)\n",
    "mnb9= MultinomialNB()"
   ]
  },
  {
   "cell_type": "code",
   "execution_count": 26,
   "id": "4b6a0244",
   "metadata": {},
   "outputs": [],
   "source": [
    "svm9 = LinearSVC(C=1)\n",
    "mnb9= MultinomialNB()\n",
    "#train model\n",
    "#svm_model_http = svm9.fit(vecs2df,y)\n",
    "#cross validation score\n",
    "svm_cv_scores_http = cross_val_score(svm9, vecsdf, y, cv=10)\n",
    "mnb_cv_scores_http = cross_val_score(mnb9, vecs2df, y, cv=10)\n",
    "#finding the overall average accuracy.\n",
    "svm_cv_score_http = np.mean(svm_cv_scores_http)\n",
    "mnb_cv_score_http = np.mean(mnb_cv_scores_http)\n",
    "svm_fs_accurracy['HTTP Count svm Accuracy']=svm_cv_score_http\n",
    "mnb_fs_accurracy['HTTP Count mnb Accuracy']=mnb_cv_score_http"
   ]
  },
  {
   "cell_type": "code",
   "execution_count": 27,
   "id": "998f8256",
   "metadata": {},
   "outputs": [],
   "source": [
    "vecsdf.drop('http_count',axis=1,inplace=True)\n",
    "vecs2df.drop('http_count',axis=1,inplace=True)"
   ]
  },
  {
   "cell_type": "markdown",
   "id": "1c81c656",
   "metadata": {},
   "source": [
    "## new feature creation Emoticons"
   ]
  },
  {
   "cell_type": "code",
   "execution_count": 28,
   "id": "09a1df75",
   "metadata": {},
   "outputs": [],
   "source": [
    "d_count = []\n",
    "for item in Xtemp:\n",
    "    for token in item:\n",
    "        count=0\n",
    "        if token.startswith(':-d'):\n",
    "            count = count+1\n",
    "        else:\n",
    "            continue\n",
    "    d_count.append(count)"
   ]
  },
  {
   "cell_type": "code",
   "execution_count": 29,
   "id": "8b033f3b",
   "metadata": {},
   "outputs": [
    {
     "data": {
      "text/plain": [
       "27480"
      ]
     },
     "execution_count": 29,
     "metadata": {},
     "output_type": "execute_result"
    }
   ],
   "source": [
    "len(d_count)"
   ]
  },
  {
   "cell_type": "code",
   "execution_count": 30,
   "id": "eeaf10a3",
   "metadata": {},
   "outputs": [],
   "source": [
    "p_count = []\n",
    "for item in Xtemp:\n",
    "    for token in item:\n",
    "        count=0\n",
    "        if token.startswith(':-p'):\n",
    "            count = count+1\n",
    "        else:\n",
    "            continue\n",
    "    p_count.append(count)"
   ]
  },
  {
   "cell_type": "code",
   "execution_count": 31,
   "id": "f407afc9",
   "metadata": {},
   "outputs": [
    {
     "data": {
      "text/plain": [
       "27480"
      ]
     },
     "execution_count": 31,
     "metadata": {},
     "output_type": "execute_result"
    }
   ],
   "source": [
    "len(p_count)"
   ]
  },
  {
   "cell_type": "code",
   "execution_count": 32,
   "id": "84525344",
   "metadata": {},
   "outputs": [],
   "source": [
    "frown_count = []\n",
    "for item in Xtemp:\n",
    "    for token in item:\n",
    "        count=0\n",
    "        if token.startswith(':/'):\n",
    "            count = count+1\n",
    "        else:\n",
    "            continue\n",
    "    frown_count.append(count)"
   ]
  },
  {
   "cell_type": "code",
   "execution_count": 33,
   "id": "fc9f19ea",
   "metadata": {},
   "outputs": [
    {
     "data": {
      "text/plain": [
       "27480"
      ]
     },
     "execution_count": 33,
     "metadata": {},
     "output_type": "execute_result"
    }
   ],
   "source": [
    "len(frown_count)"
   ]
  },
  {
   "cell_type": "code",
   "execution_count": 34,
   "id": "c2014f9b",
   "metadata": {},
   "outputs": [],
   "source": [
    "suprise_count = []\n",
    "for item in Xtemp:\n",
    "    for token in item:\n",
    "        count=0\n",
    "        if token.startswith(':@'):\n",
    "            count = count+1\n",
    "        else:\n",
    "            continue\n",
    "    suprise_count.append(count)"
   ]
  },
  {
   "cell_type": "code",
   "execution_count": 35,
   "id": "bc8f42ad",
   "metadata": {},
   "outputs": [
    {
     "data": {
      "text/plain": [
       "27480"
      ]
     },
     "execution_count": 35,
     "metadata": {},
     "output_type": "execute_result"
    }
   ],
   "source": [
    "len(suprise_count)"
   ]
  },
  {
   "cell_type": "code",
   "execution_count": 36,
   "id": "f065b183",
   "metadata": {},
   "outputs": [],
   "source": [
    "frown2_count = []\n",
    "for item in Xtemp:\n",
    "    for token in item:\n",
    "        count=0\n",
    "        if token.startswith(':['):\n",
    "            count = count+1\n",
    "        else:\n",
    "            continue\n",
    "    frown2_count.append(count)"
   ]
  },
  {
   "cell_type": "code",
   "execution_count": 37,
   "id": "be21ef29",
   "metadata": {},
   "outputs": [
    {
     "data": {
      "text/plain": [
       "27480"
      ]
     },
     "execution_count": 37,
     "metadata": {},
     "output_type": "execute_result"
    }
   ],
   "source": [
    "len(frown2_count)"
   ]
  },
  {
   "cell_type": "code",
   "execution_count": 38,
   "id": "030557f5",
   "metadata": {},
   "outputs": [],
   "source": [
    "smile_count = []\n",
    "for item in Xtemp:\n",
    "    for token in item:\n",
    "        count=0\n",
    "        if token.startswith(':]'):\n",
    "            count = count+1\n",
    "        else:\n",
    "            continue\n",
    "    smile_count.append(count)"
   ]
  },
  {
   "cell_type": "code",
   "execution_count": 39,
   "id": "4a1391c5",
   "metadata": {},
   "outputs": [
    {
     "data": {
      "text/plain": [
       "27480"
      ]
     },
     "execution_count": 39,
     "metadata": {},
     "output_type": "execute_result"
    }
   ],
   "source": [
    "len(smile_count)"
   ]
  },
  {
   "cell_type": "code",
   "execution_count": 40,
   "id": "c7327a8a",
   "metadata": {},
   "outputs": [],
   "source": [
    "toungenonose_count = []\n",
    "for item in Xtemp:\n",
    "    for token in item:\n",
    "        count=0\n",
    "        if token.startswith(':p'):\n",
    "            count = count+1\n",
    "        else:\n",
    "            continue\n",
    "    toungenonose_count.append(count)"
   ]
  },
  {
   "cell_type": "code",
   "execution_count": 41,
   "id": "31b06604",
   "metadata": {},
   "outputs": [
    {
     "data": {
      "text/plain": [
       "27480"
      ]
     },
     "execution_count": 41,
     "metadata": {},
     "output_type": "execute_result"
    }
   ],
   "source": [
    "len(toungenonose_count)"
   ]
  },
  {
   "cell_type": "code",
   "execution_count": 42,
   "id": "53a5b7bf",
   "metadata": {},
   "outputs": [],
   "source": [
    "straight_count = []\n",
    "for item in Xtemp:\n",
    "    for token in item:\n",
    "        count=0\n",
    "        if token.startswith(':|'):\n",
    "            count = count+1\n",
    "        else:\n",
    "            continue\n",
    "    straight_count.append(count)"
   ]
  },
  {
   "cell_type": "code",
   "execution_count": 43,
   "id": "297e740f",
   "metadata": {},
   "outputs": [
    {
     "data": {
      "text/plain": [
       "27480"
      ]
     },
     "execution_count": 43,
     "metadata": {},
     "output_type": "execute_result"
    }
   ],
   "source": [
    "len(straight_count)"
   ]
  },
  {
   "cell_type": "code",
   "execution_count": 44,
   "id": "a28ba7c0",
   "metadata": {},
   "outputs": [],
   "source": [
    "winknonose_count = []\n",
    "for item in Xtemp:\n",
    "    for token in item:\n",
    "        count=0\n",
    "        if token.startswith(';)'):\n",
    "            count = count+1\n",
    "        else:\n",
    "            continue\n",
    "    winknonose_count.append(count)"
   ]
  },
  {
   "cell_type": "code",
   "execution_count": 45,
   "id": "fff46549",
   "metadata": {},
   "outputs": [
    {
     "data": {
      "text/plain": [
       "27480"
      ]
     },
     "execution_count": 45,
     "metadata": {},
     "output_type": "execute_result"
    }
   ],
   "source": [
    "len(winknonose_count)"
   ]
  },
  {
   "cell_type": "code",
   "execution_count": 46,
   "id": "c6d96e4b",
   "metadata": {},
   "outputs": [],
   "source": [
    "wink_count = []\n",
    "for item in Xtemp:\n",
    "    for token in item:\n",
    "        count=0\n",
    "        if token.startswith(';-)'):\n",
    "            count = count+1\n",
    "        else:\n",
    "            continue\n",
    "    wink_count.append(count)"
   ]
  },
  {
   "cell_type": "code",
   "execution_count": 47,
   "id": "483127f5",
   "metadata": {},
   "outputs": [
    {
     "data": {
      "text/plain": [
       "27480"
      ]
     },
     "execution_count": 47,
     "metadata": {},
     "output_type": "execute_result"
    }
   ],
   "source": [
    "len(wink_count)"
   ]
  },
  {
   "cell_type": "code",
   "execution_count": 48,
   "id": "adaaadce",
   "metadata": {},
   "outputs": [],
   "source": [
    "winktounge_count = []\n",
    "for item in Xtemp:\n",
    "    for token in item:\n",
    "        count=0\n",
    "        if token.startswith(';d'):\n",
    "            count = count+1\n",
    "        else:\n",
    "            continue\n",
    "    winktounge_count.append(count)"
   ]
  },
  {
   "cell_type": "code",
   "execution_count": 49,
   "id": "b5ee9cd1",
   "metadata": {},
   "outputs": [
    {
     "data": {
      "text/plain": [
       "27480"
      ]
     },
     "execution_count": 49,
     "metadata": {},
     "output_type": "execute_result"
    }
   ],
   "source": [
    "len(winktounge_count)"
   ]
  },
  {
   "cell_type": "code",
   "execution_count": 50,
   "id": "cc685543",
   "metadata": {},
   "outputs": [],
   "source": [
    "winkbackwardstounge_count = []\n",
    "for item in Xtemp:\n",
    "    for token in item:\n",
    "        count=0\n",
    "        if token.startswith(';p'):\n",
    "            count = count+1\n",
    "        else:\n",
    "            continue\n",
    "    winkbackwardstounge_count.append(count)"
   ]
  },
  {
   "cell_type": "code",
   "execution_count": 51,
   "id": "b1f9cbb6",
   "metadata": {},
   "outputs": [
    {
     "data": {
      "text/plain": [
       "27480"
      ]
     },
     "execution_count": 51,
     "metadata": {},
     "output_type": "execute_result"
    }
   ],
   "source": [
    "len(winkbackwardstounge_count)"
   ]
  },
  {
   "cell_type": "code",
   "execution_count": 52,
   "id": "50b95ec1",
   "metadata": {},
   "outputs": [],
   "source": [
    "bigfrown_count = []\n",
    "for item in Xtemp:\n",
    "    for token in item:\n",
    "        count=0\n",
    "        if token.startswith('=('):\n",
    "            count = count+1\n",
    "        else:\n",
    "            continue\n",
    "    bigfrown_count.append(count)"
   ]
  },
  {
   "cell_type": "code",
   "execution_count": 53,
   "id": "f5a7ea25",
   "metadata": {},
   "outputs": [
    {
     "data": {
      "text/plain": [
       "27480"
      ]
     },
     "execution_count": 53,
     "metadata": {},
     "output_type": "execute_result"
    }
   ],
   "source": [
    "len(bigfrown_count)"
   ]
  },
  {
   "cell_type": "code",
   "execution_count": 54,
   "id": "822ed02c",
   "metadata": {},
   "outputs": [],
   "source": [
    "smallfrown_count = []\n",
    "for item in Xtemp:\n",
    "    for token in item:\n",
    "        count=0\n",
    "        if token.startswith('=/'):\n",
    "            count = count+1\n",
    "        else:\n",
    "            continue\n",
    "    smallfrown_count.append(count)"
   ]
  },
  {
   "cell_type": "code",
   "execution_count": 55,
   "id": "fa18d109",
   "metadata": {},
   "outputs": [
    {
     "data": {
      "text/plain": [
       "27480"
      ]
     },
     "execution_count": 55,
     "metadata": {},
     "output_type": "execute_result"
    }
   ],
   "source": [
    "len(smallfrown_count)"
   ]
  },
  {
   "cell_type": "code",
   "execution_count": 56,
   "id": "1beeaf59",
   "metadata": {},
   "outputs": [],
   "source": [
    "bigsmile_count = []\n",
    "for item in Xtemp:\n",
    "    for token in item:\n",
    "        count=0\n",
    "        if token.startswith('=]'):\n",
    "            count = count+1\n",
    "        else:\n",
    "            continue\n",
    "    bigsmile_count.append(count)"
   ]
  },
  {
   "cell_type": "code",
   "execution_count": 57,
   "id": "9b253ac0",
   "metadata": {},
   "outputs": [
    {
     "data": {
      "text/plain": [
       "27480"
      ]
     },
     "execution_count": 57,
     "metadata": {},
     "output_type": "execute_result"
    }
   ],
   "source": [
    "len(bigsmile_count)"
   ]
  },
  {
   "cell_type": "code",
   "execution_count": 58,
   "id": "3d8d2d4a",
   "metadata": {},
   "outputs": [],
   "source": [
    "bigeyetoungeout_count = []\n",
    "for item in Xtemp:\n",
    "    for token in item:\n",
    "        count=0\n",
    "        if token.startswith('=d'):\n",
    "            count = count+1\n",
    "        else:\n",
    "            continue\n",
    "    bigeyetoungeout_count.append(count)"
   ]
  },
  {
   "cell_type": "code",
   "execution_count": 59,
   "id": "b07fb622",
   "metadata": {},
   "outputs": [
    {
     "data": {
      "text/plain": [
       "27480"
      ]
     },
     "execution_count": 59,
     "metadata": {},
     "output_type": "execute_result"
    }
   ],
   "source": [
    "len(bigeyetoungeout_count)"
   ]
  },
  {
   "cell_type": "code",
   "execution_count": 60,
   "id": "db3c1b0f",
   "metadata": {},
   "outputs": [],
   "source": [
    "bigeyebackwardstoungeout_count = []\n",
    "for item in Xtemp:\n",
    "    for token in item:\n",
    "        count=0\n",
    "        if token.startswith('=p'):\n",
    "            count = count+1\n",
    "        else:\n",
    "            continue\n",
    "    bigeyebackwardstoungeout_count.append(count)"
   ]
  },
  {
   "cell_type": "code",
   "execution_count": 61,
   "id": "a7fbd505",
   "metadata": {},
   "outputs": [
    {
     "data": {
      "text/plain": [
       "27480"
      ]
     },
     "execution_count": 61,
     "metadata": {},
     "output_type": "execute_result"
    }
   ],
   "source": [
    "len(bigeyebackwardstoungeout_count)"
   ]
  },
  {
   "cell_type": "code",
   "execution_count": 62,
   "id": "b75bef89",
   "metadata": {},
   "outputs": [],
   "source": [
    "vecsdf['d_count']=d_count\n",
    "vecsdf['p_count']=p_count\n",
    "vecsdf['frown_count']=frown_count\n",
    "vecsdf['suprise_count']=suprise_count\n",
    "vecsdf['frown2_count']=frown2_count\n",
    "vecsdf['smile_count']=smile_count\n",
    "vecsdf['toungenonose_count']=toungenonose_count\n",
    "vecsdf['straight_count']=straight_count\n",
    "vecsdf['winknonose_count']=winknonose_count\n",
    "vecsdf['winktounge_count']=winktounge_count\n",
    "vecsdf['winkbackwardstounge_count']=winkbackwardstounge_count\n",
    "vecsdf['bigfrown_count']=bigfrown_count\n",
    "vecsdf['smallfrown_count']=smallfrown_count\n",
    "vecsdf['bigsmile_count']=bigsmile_count\n",
    "vecsdf['bigeyetoungeout_count']=bigeyetoungeout_count\n",
    "vecsdf['bigeyebackwardstoungeout_count']=bigeyebackwardstoungeout_count"
   ]
  },
  {
   "cell_type": "code",
   "execution_count": 63,
   "id": "25f66bfb",
   "metadata": {},
   "outputs": [],
   "source": [
    "vecs2df['d_count']=d_count\n",
    "vecs2df['p_count']=p_count\n",
    "vecs2df['frown_count']=frown_count\n",
    "vecs2df['suprise_count']=suprise_count\n",
    "vecs2df['frown2_count']=frown2_count\n",
    "vecs2df['smile_count']=smile_count\n",
    "vecs2df['toungenonose_count']=toungenonose_count\n",
    "vecs2df['straight_count']=straight_count\n",
    "vecs2df['winknonose_count']=winknonose_count\n",
    "vecs2df['winktounge_count']=winktounge_count\n",
    "vecs2df['winkbackwardstounge_count']=winkbackwardstounge_count\n",
    "vecs2df['bigfrown_count']=bigfrown_count\n",
    "vecs2df['smallfrown_count']=smallfrown_count\n",
    "vecs2df['bigsmile_count']=bigsmile_count\n",
    "vecs2df['bigeyetoungeout_count']=bigeyetoungeout_count\n",
    "vecs2df['bigeyebackwardstoungeout_count']=bigeyebackwardstoungeout_count"
   ]
  },
  {
   "cell_type": "code",
   "execution_count": 64,
   "id": "a853254c",
   "metadata": {},
   "outputs": [],
   "source": [
    "svm10 = LinearSVC(C=1)\n",
    "mnb10 = MultinomialNB()"
   ]
  },
  {
   "cell_type": "code",
   "execution_count": 65,
   "id": "ebffdc6f",
   "metadata": {},
   "outputs": [],
   "source": [
    "#train model\n",
    "#svm_model_http = svm9.fit(vecs2df,y)\n",
    "#cross validation score\n",
    "svm_cv_scores_emo = cross_val_score(svm10, vecsdf, y, cv=10)\n",
    "mnb_cv_scores_emo = cross_val_score(mnb10, vecs2df, y, cv=10)\n",
    "#finding the overall average accuracy.\n",
    "svm_cv_score_emo = np.mean(svm_cv_scores_emo)\n",
    "mnb_cv_score_emo = np.mean(mnb_cv_scores_emo)\n",
    "svm_fs_accurracy['Emo Count svm Accuracy']=svm_cv_score_emo\n",
    "mnb_fs_accurracy['Emo Count mnb Accuracy']=mnb_cv_score_emo"
   ]
  },
  {
   "cell_type": "code",
   "execution_count": 66,
   "id": "24f6e2d0",
   "metadata": {},
   "outputs": [
    {
     "data": {
      "text/html": [
       "<div>\n",
       "<style scoped>\n",
       "    .dataframe tbody tr th:only-of-type {\n",
       "        vertical-align: middle;\n",
       "    }\n",
       "\n",
       "    .dataframe tbody tr th {\n",
       "        vertical-align: top;\n",
       "    }\n",
       "\n",
       "    .dataframe thead th {\n",
       "        text-align: right;\n",
       "    }\n",
       "</style>\n",
       "<table border=\"1\" class=\"dataframe\">\n",
       "  <thead>\n",
       "    <tr style=\"text-align: right;\">\n",
       "      <th></th>\n",
       "      <th>00</th>\n",
       "      <th>04</th>\n",
       "      <th>05</th>\n",
       "      <th>06</th>\n",
       "      <th>07</th>\n",
       "      <th>08</th>\n",
       "      <th>09</th>\n",
       "      <th>10</th>\n",
       "      <th>100</th>\n",
       "      <th>101</th>\n",
       "      <th>...</th>\n",
       "      <th>toungenonose_count</th>\n",
       "      <th>straight_count</th>\n",
       "      <th>winknonose_count</th>\n",
       "      <th>winktounge_count</th>\n",
       "      <th>winkbackwardstounge_count</th>\n",
       "      <th>bigfrown_count</th>\n",
       "      <th>smallfrown_count</th>\n",
       "      <th>bigsmile_count</th>\n",
       "      <th>bigeyetoungeout_count</th>\n",
       "      <th>bigeyebackwardstoungeout_count</th>\n",
       "    </tr>\n",
       "  </thead>\n",
       "  <tbody>\n",
       "    <tr>\n",
       "      <th>0</th>\n",
       "      <td>0.0</td>\n",
       "      <td>0.0</td>\n",
       "      <td>0.0</td>\n",
       "      <td>0.0</td>\n",
       "      <td>0.0</td>\n",
       "      <td>0.0</td>\n",
       "      <td>0.0</td>\n",
       "      <td>0.0</td>\n",
       "      <td>0.0</td>\n",
       "      <td>0.0</td>\n",
       "      <td>...</td>\n",
       "      <td>0</td>\n",
       "      <td>0</td>\n",
       "      <td>0</td>\n",
       "      <td>0</td>\n",
       "      <td>0</td>\n",
       "      <td>0</td>\n",
       "      <td>0</td>\n",
       "      <td>0</td>\n",
       "      <td>0</td>\n",
       "      <td>0</td>\n",
       "    </tr>\n",
       "    <tr>\n",
       "      <th>1</th>\n",
       "      <td>0.0</td>\n",
       "      <td>0.0</td>\n",
       "      <td>0.0</td>\n",
       "      <td>0.0</td>\n",
       "      <td>0.0</td>\n",
       "      <td>0.0</td>\n",
       "      <td>0.0</td>\n",
       "      <td>0.0</td>\n",
       "      <td>0.0</td>\n",
       "      <td>0.0</td>\n",
       "      <td>...</td>\n",
       "      <td>0</td>\n",
       "      <td>0</td>\n",
       "      <td>0</td>\n",
       "      <td>0</td>\n",
       "      <td>0</td>\n",
       "      <td>0</td>\n",
       "      <td>0</td>\n",
       "      <td>0</td>\n",
       "      <td>0</td>\n",
       "      <td>0</td>\n",
       "    </tr>\n",
       "    <tr>\n",
       "      <th>2</th>\n",
       "      <td>0.0</td>\n",
       "      <td>0.0</td>\n",
       "      <td>0.0</td>\n",
       "      <td>0.0</td>\n",
       "      <td>0.0</td>\n",
       "      <td>0.0</td>\n",
       "      <td>0.0</td>\n",
       "      <td>0.0</td>\n",
       "      <td>0.0</td>\n",
       "      <td>0.0</td>\n",
       "      <td>...</td>\n",
       "      <td>0</td>\n",
       "      <td>0</td>\n",
       "      <td>0</td>\n",
       "      <td>0</td>\n",
       "      <td>0</td>\n",
       "      <td>0</td>\n",
       "      <td>0</td>\n",
       "      <td>0</td>\n",
       "      <td>0</td>\n",
       "      <td>0</td>\n",
       "    </tr>\n",
       "    <tr>\n",
       "      <th>3</th>\n",
       "      <td>0.0</td>\n",
       "      <td>0.0</td>\n",
       "      <td>0.0</td>\n",
       "      <td>0.0</td>\n",
       "      <td>0.0</td>\n",
       "      <td>0.0</td>\n",
       "      <td>0.0</td>\n",
       "      <td>0.0</td>\n",
       "      <td>0.0</td>\n",
       "      <td>0.0</td>\n",
       "      <td>...</td>\n",
       "      <td>0</td>\n",
       "      <td>0</td>\n",
       "      <td>0</td>\n",
       "      <td>0</td>\n",
       "      <td>0</td>\n",
       "      <td>0</td>\n",
       "      <td>0</td>\n",
       "      <td>0</td>\n",
       "      <td>0</td>\n",
       "      <td>0</td>\n",
       "    </tr>\n",
       "    <tr>\n",
       "      <th>4</th>\n",
       "      <td>0.0</td>\n",
       "      <td>0.0</td>\n",
       "      <td>0.0</td>\n",
       "      <td>0.0</td>\n",
       "      <td>0.0</td>\n",
       "      <td>0.0</td>\n",
       "      <td>0.0</td>\n",
       "      <td>0.0</td>\n",
       "      <td>0.0</td>\n",
       "      <td>0.0</td>\n",
       "      <td>...</td>\n",
       "      <td>0</td>\n",
       "      <td>0</td>\n",
       "      <td>0</td>\n",
       "      <td>0</td>\n",
       "      <td>0</td>\n",
       "      <td>0</td>\n",
       "      <td>0</td>\n",
       "      <td>0</td>\n",
       "      <td>0</td>\n",
       "      <td>0</td>\n",
       "    </tr>\n",
       "    <tr>\n",
       "      <th>...</th>\n",
       "      <td>...</td>\n",
       "      <td>...</td>\n",
       "      <td>...</td>\n",
       "      <td>...</td>\n",
       "      <td>...</td>\n",
       "      <td>...</td>\n",
       "      <td>...</td>\n",
       "      <td>...</td>\n",
       "      <td>...</td>\n",
       "      <td>...</td>\n",
       "      <td>...</td>\n",
       "      <td>...</td>\n",
       "      <td>...</td>\n",
       "      <td>...</td>\n",
       "      <td>...</td>\n",
       "      <td>...</td>\n",
       "      <td>...</td>\n",
       "      <td>...</td>\n",
       "      <td>...</td>\n",
       "      <td>...</td>\n",
       "      <td>...</td>\n",
       "    </tr>\n",
       "    <tr>\n",
       "      <th>27475</th>\n",
       "      <td>0.0</td>\n",
       "      <td>0.0</td>\n",
       "      <td>0.0</td>\n",
       "      <td>0.0</td>\n",
       "      <td>0.0</td>\n",
       "      <td>0.0</td>\n",
       "      <td>0.0</td>\n",
       "      <td>0.0</td>\n",
       "      <td>0.0</td>\n",
       "      <td>0.0</td>\n",
       "      <td>...</td>\n",
       "      <td>0</td>\n",
       "      <td>0</td>\n",
       "      <td>0</td>\n",
       "      <td>0</td>\n",
       "      <td>0</td>\n",
       "      <td>0</td>\n",
       "      <td>0</td>\n",
       "      <td>0</td>\n",
       "      <td>0</td>\n",
       "      <td>0</td>\n",
       "    </tr>\n",
       "    <tr>\n",
       "      <th>27476</th>\n",
       "      <td>0.0</td>\n",
       "      <td>0.0</td>\n",
       "      <td>0.0</td>\n",
       "      <td>0.0</td>\n",
       "      <td>0.0</td>\n",
       "      <td>0.0</td>\n",
       "      <td>0.0</td>\n",
       "      <td>0.0</td>\n",
       "      <td>0.0</td>\n",
       "      <td>0.0</td>\n",
       "      <td>...</td>\n",
       "      <td>0</td>\n",
       "      <td>0</td>\n",
       "      <td>0</td>\n",
       "      <td>0</td>\n",
       "      <td>0</td>\n",
       "      <td>0</td>\n",
       "      <td>0</td>\n",
       "      <td>0</td>\n",
       "      <td>0</td>\n",
       "      <td>0</td>\n",
       "    </tr>\n",
       "    <tr>\n",
       "      <th>27477</th>\n",
       "      <td>0.0</td>\n",
       "      <td>0.0</td>\n",
       "      <td>0.0</td>\n",
       "      <td>0.0</td>\n",
       "      <td>0.0</td>\n",
       "      <td>0.0</td>\n",
       "      <td>0.0</td>\n",
       "      <td>0.0</td>\n",
       "      <td>0.0</td>\n",
       "      <td>0.0</td>\n",
       "      <td>...</td>\n",
       "      <td>0</td>\n",
       "      <td>0</td>\n",
       "      <td>0</td>\n",
       "      <td>0</td>\n",
       "      <td>0</td>\n",
       "      <td>0</td>\n",
       "      <td>0</td>\n",
       "      <td>0</td>\n",
       "      <td>0</td>\n",
       "      <td>0</td>\n",
       "    </tr>\n",
       "    <tr>\n",
       "      <th>27478</th>\n",
       "      <td>0.0</td>\n",
       "      <td>0.0</td>\n",
       "      <td>0.0</td>\n",
       "      <td>0.0</td>\n",
       "      <td>0.0</td>\n",
       "      <td>0.0</td>\n",
       "      <td>0.0</td>\n",
       "      <td>0.0</td>\n",
       "      <td>0.0</td>\n",
       "      <td>0.0</td>\n",
       "      <td>...</td>\n",
       "      <td>0</td>\n",
       "      <td>0</td>\n",
       "      <td>0</td>\n",
       "      <td>0</td>\n",
       "      <td>0</td>\n",
       "      <td>0</td>\n",
       "      <td>0</td>\n",
       "      <td>0</td>\n",
       "      <td>0</td>\n",
       "      <td>0</td>\n",
       "    </tr>\n",
       "    <tr>\n",
       "      <th>27479</th>\n",
       "      <td>0.0</td>\n",
       "      <td>0.0</td>\n",
       "      <td>0.0</td>\n",
       "      <td>0.0</td>\n",
       "      <td>0.0</td>\n",
       "      <td>0.0</td>\n",
       "      <td>0.0</td>\n",
       "      <td>0.0</td>\n",
       "      <td>0.0</td>\n",
       "      <td>0.0</td>\n",
       "      <td>...</td>\n",
       "      <td>0</td>\n",
       "      <td>0</td>\n",
       "      <td>0</td>\n",
       "      <td>0</td>\n",
       "      <td>0</td>\n",
       "      <td>0</td>\n",
       "      <td>0</td>\n",
       "      <td>0</td>\n",
       "      <td>0</td>\n",
       "      <td>0</td>\n",
       "    </tr>\n",
       "  </tbody>\n",
       "</table>\n",
       "<p>27480 rows × 3894 columns</p>\n",
       "</div>"
      ],
      "text/plain": [
       "        00   04   05   06   07   08   09   10  100  101  ...  \\\n",
       "0      0.0  0.0  0.0  0.0  0.0  0.0  0.0  0.0  0.0  0.0  ...   \n",
       "1      0.0  0.0  0.0  0.0  0.0  0.0  0.0  0.0  0.0  0.0  ...   \n",
       "2      0.0  0.0  0.0  0.0  0.0  0.0  0.0  0.0  0.0  0.0  ...   \n",
       "3      0.0  0.0  0.0  0.0  0.0  0.0  0.0  0.0  0.0  0.0  ...   \n",
       "4      0.0  0.0  0.0  0.0  0.0  0.0  0.0  0.0  0.0  0.0  ...   \n",
       "...    ...  ...  ...  ...  ...  ...  ...  ...  ...  ...  ...   \n",
       "27475  0.0  0.0  0.0  0.0  0.0  0.0  0.0  0.0  0.0  0.0  ...   \n",
       "27476  0.0  0.0  0.0  0.0  0.0  0.0  0.0  0.0  0.0  0.0  ...   \n",
       "27477  0.0  0.0  0.0  0.0  0.0  0.0  0.0  0.0  0.0  0.0  ...   \n",
       "27478  0.0  0.0  0.0  0.0  0.0  0.0  0.0  0.0  0.0  0.0  ...   \n",
       "27479  0.0  0.0  0.0  0.0  0.0  0.0  0.0  0.0  0.0  0.0  ...   \n",
       "\n",
       "       toungenonose_count  straight_count  winknonose_count  winktounge_count  \\\n",
       "0                       0               0                 0                 0   \n",
       "1                       0               0                 0                 0   \n",
       "2                       0               0                 0                 0   \n",
       "3                       0               0                 0                 0   \n",
       "4                       0               0                 0                 0   \n",
       "...                   ...             ...               ...               ...   \n",
       "27475                   0               0                 0                 0   \n",
       "27476                   0               0                 0                 0   \n",
       "27477                   0               0                 0                 0   \n",
       "27478                   0               0                 0                 0   \n",
       "27479                   0               0                 0                 0   \n",
       "\n",
       "       winkbackwardstounge_count  bigfrown_count  smallfrown_count  \\\n",
       "0                              0               0                 0   \n",
       "1                              0               0                 0   \n",
       "2                              0               0                 0   \n",
       "3                              0               0                 0   \n",
       "4                              0               0                 0   \n",
       "...                          ...             ...               ...   \n",
       "27475                          0               0                 0   \n",
       "27476                          0               0                 0   \n",
       "27477                          0               0                 0   \n",
       "27478                          0               0                 0   \n",
       "27479                          0               0                 0   \n",
       "\n",
       "       bigsmile_count  bigeyetoungeout_count  bigeyebackwardstoungeout_count  \n",
       "0                   0                      0                               0  \n",
       "1                   0                      0                               0  \n",
       "2                   0                      0                               0  \n",
       "3                   0                      0                               0  \n",
       "4                   0                      0                               0  \n",
       "...               ...                    ...                             ...  \n",
       "27475               0                      0                               0  \n",
       "27476               0                      0                               0  \n",
       "27477               0                      0                               0  \n",
       "27478               0                      0                               0  \n",
       "27479               0                      0                               0  \n",
       "\n",
       "[27480 rows x 3894 columns]"
      ]
     },
     "execution_count": 66,
     "metadata": {},
     "output_type": "execute_result"
    }
   ],
   "source": [
    "vecsdf"
   ]
  },
  {
   "cell_type": "code",
   "execution_count": 67,
   "id": "57d586cb",
   "metadata": {},
   "outputs": [],
   "source": [
    "vecsdf.drop('d_count',axis=1,inplace=True)\n",
    "vecsdf.drop('p_count',axis=1,inplace=True)\n",
    "vecsdf.drop('frown_count',axis=1,inplace=True)\n",
    "vecsdf.drop('suprise_count',axis=1,inplace=True)\n",
    "vecsdf.drop('frown2_count',axis=1,inplace=True)\n",
    "vecsdf.drop('smile_count',axis=1,inplace=True)\n",
    "vecsdf.drop('toungenonose_count',axis=1,inplace=True)\n",
    "vecsdf.drop('straight_count',axis=1,inplace=True)\n",
    "vecsdf.drop('winknonose_count',axis=1,inplace=True)\n",
    "vecsdf.drop('winktounge_count',axis=1,inplace=True)\n",
    "vecsdf.drop('winkbackwardstounge_count',axis=1,inplace=True)\n",
    "vecsdf.drop('bigfrown_count',axis=1,inplace=True)\n",
    "vecsdf.drop('smallfrown_count',axis=1,inplace=True)\n",
    "vecsdf.drop('bigsmile_count',axis=1,inplace=True)\n",
    "vecsdf.drop('bigeyetoungeout_count',axis=1,inplace=True)\n",
    "vecsdf.drop('bigeyebackwardstoungeout_count',axis=1,inplace=True)"
   ]
  },
  {
   "cell_type": "code",
   "execution_count": 68,
   "id": "2cf1991c",
   "metadata": {},
   "outputs": [],
   "source": [
    "vecs2df.drop('d_count',axis=1,inplace=True)\n",
    "vecs2df.drop('p_count',axis=1,inplace=True)\n",
    "vecs2df.drop('frown_count',axis=1,inplace=True)\n",
    "vecs2df.drop('suprise_count',axis=1,inplace=True)\n",
    "vecs2df.drop('frown2_count',axis=1,inplace=True)\n",
    "vecs2df.drop('smile_count',axis=1,inplace=True)\n",
    "vecs2df.drop('toungenonose_count',axis=1,inplace=True)\n",
    "vecs2df.drop('straight_count',axis=1,inplace=True)\n",
    "vecs2df.drop('winknonose_count',axis=1,inplace=True)\n",
    "vecs2df.drop('winktounge_count',axis=1,inplace=True)\n",
    "vecs2df.drop('winkbackwardstounge_count',axis=1,inplace=True)\n",
    "vecs2df.drop('bigfrown_count',axis=1,inplace=True)\n",
    "vecs2df.drop('smallfrown_count',axis=1,inplace=True)\n",
    "vecs2df.drop('bigsmile_count',axis=1,inplace=True)\n",
    "vecs2df.drop('bigeyetoungeout_count',axis=1,inplace=True)\n",
    "vecs2df.drop('bigeyebackwardstoungeout_count',axis=1,inplace=True)"
   ]
  },
  {
   "cell_type": "markdown",
   "id": "5eb7141a",
   "metadata": {},
   "source": [
    "## Sentences count"
   ]
  },
  {
   "cell_type": "code",
   "execution_count": 69,
   "id": "3f5d2b91",
   "metadata": {},
   "outputs": [],
   "source": [
    "from nltk import sent_tokenize\n",
    "sentences=[]\n",
    "for tweet in tempX:\n",
    "    sentences.append(sent_tokenize(tweet))"
   ]
  },
  {
   "cell_type": "code",
   "execution_count": 70,
   "id": "92af36d1",
   "metadata": {},
   "outputs": [],
   "source": [
    "sentences_count =[]\n",
    "for tweet in sentences:\n",
    "    count =0\n",
    "    for sent in tweet:\n",
    "        count=count+1\n",
    "    sentences_count.append(count)"
   ]
  },
  {
   "cell_type": "code",
   "execution_count": 71,
   "id": "e86eb1a6",
   "metadata": {},
   "outputs": [],
   "source": [
    "sentences_array = np.asarray(sentences_count)\n",
    "sentences_norm = (sentences_array - sentences_array.min())/ (sentences_array.max() - sentences_array.min())"
   ]
  },
  {
   "cell_type": "code",
   "execution_count": 72,
   "id": "6ba5da13",
   "metadata": {},
   "outputs": [],
   "source": [
    "vecsdf['sentences_norm']=sentences_norm\n",
    "vecs2df['sentences_norm']=sentences_norm"
   ]
  },
  {
   "cell_type": "code",
   "execution_count": 73,
   "id": "5d3d3f32",
   "metadata": {},
   "outputs": [],
   "source": [
    "svm11 = LinearSVC(C=1)\n",
    "mnb11 = MultinomialNB()\n",
    "#train model\n",
    "#svm_model_http = svm9.fit(vecs2df,y)\n",
    "#cross validation score\n",
    "svm_cv_scores_sent = cross_val_score(svm11, vecsdf, y, cv=10)\n",
    "mnb_cv_scores_sent = cross_val_score(mnb11, vecs2df, y, cv=10)\n",
    "#finding the overall average accuracy.\n",
    "svm_cv_score_sent = np.mean(svm_cv_scores_sent)\n",
    "mnb_cv_score_sent = np.mean(mnb_cv_scores_sent)\n",
    "#print('sent svm Accuracy:',svm_cv_score_sent)\n",
    "svm_fs_accurracy['Sent svm Accuracy']=svm_cv_score_sent\n",
    "mnb_fs_accurracy['Sent mnb Accuracy']=mnb_cv_score_sent"
   ]
  },
  {
   "cell_type": "code",
   "execution_count": 74,
   "id": "5db982f3",
   "metadata": {},
   "outputs": [],
   "source": [
    "vecsdf.drop('sentences_norm',axis=1,inplace=True)\n",
    "vecs2df.drop('sentences_norm',axis=1,inplace=True)"
   ]
  },
  {
   "cell_type": "markdown",
   "id": "667ffb78",
   "metadata": {},
   "source": [
    "## word count"
   ]
  },
  {
   "cell_type": "code",
   "execution_count": 75,
   "id": "65cd119f",
   "metadata": {},
   "outputs": [],
   "source": [
    "words=[]\n",
    "for tweet in Xtemp:\n",
    "    words.append(tweet)"
   ]
  },
  {
   "cell_type": "code",
   "execution_count": 76,
   "id": "f6bb14d7",
   "metadata": {},
   "outputs": [],
   "source": [
    "word_count =[]\n",
    "for tweet in words:\n",
    "    count =0\n",
    "    for word in tweet:\n",
    "        count=count+1\n",
    "    word_count.append(count)"
   ]
  },
  {
   "cell_type": "code",
   "execution_count": 77,
   "id": "af89d5ee",
   "metadata": {},
   "outputs": [],
   "source": [
    "word_array = np.asarray(word_count)\n",
    "word_norm = (word_array - word_array.min())/ (word_array.max() - word_array.min())"
   ]
  },
  {
   "cell_type": "code",
   "execution_count": 78,
   "id": "e440edfc",
   "metadata": {},
   "outputs": [],
   "source": [
    "vecsdf['word_norm']=word_norm\n",
    "vecs2df['word_norm']=word_norm"
   ]
  },
  {
   "cell_type": "code",
   "execution_count": 79,
   "id": "c04a6873",
   "metadata": {},
   "outputs": [],
   "source": [
    "svm12 = LinearSVC(C=1)\n",
    "mnb12 = MultinomialNB()\n",
    "#train model\n",
    "#svm_model_http = svm9.fit(vecs2df,y)\n",
    "#cross validation score\n",
    "svm_cv_scores_word = cross_val_score(svm12, vecsdf, y, cv=10)\n",
    "mnb_cv_scores_word = cross_val_score(mnb12, vecs2df, y, cv=10)\n",
    "#finding the overall average accuracy.\n",
    "svm_cv_score_word = np.mean(svm_cv_scores_word)\n",
    "mnb_cv_score_word = np.mean(mnb_cv_scores_word)\n",
    "svm_fs_accurracy['Word svm Accuracy']=svm_cv_score_word\n",
    "mnb_fs_accurracy['Word mnb Accuracy']=mnb_cv_score_word"
   ]
  },
  {
   "cell_type": "code",
   "execution_count": 80,
   "id": "efb79a47",
   "metadata": {},
   "outputs": [],
   "source": [
    "vecsdf.drop('word_norm',axis=1,inplace=True)\n",
    "vecs2df.drop('word_norm',axis=1,inplace=True)"
   ]
  },
  {
   "cell_type": "markdown",
   "id": "bf631ebb",
   "metadata": {},
   "source": [
    "## Negation"
   ]
  },
  {
   "cell_type": "code",
   "execution_count": 81,
   "id": "157b9621",
   "metadata": {},
   "outputs": [],
   "source": [
    "import re\n",
    "def has_negation(post):\n",
    "    pattern_neg_1 = re.compile(r'\\b(not|no|never)\\b')\n",
    "    pattern_neg_2 = re.compile(r'\\b([a-z]+less)\\b')\n",
    "    if pattern_neg_1.search(post.lower()) or pattern_neg_2.search(post.lower()):\n",
    "        return 1\n",
    "    else: \n",
    "        return 0"
   ]
  },
  {
   "cell_type": "code",
   "execution_count": 82,
   "id": "955a00a5",
   "metadata": {},
   "outputs": [],
   "source": [
    "neg_count=[]\n",
    "for item in X:\n",
    "    neg_count.append(has_negation(item))"
   ]
  },
  {
   "cell_type": "code",
   "execution_count": 83,
   "id": "de6305e3",
   "metadata": {},
   "outputs": [],
   "source": [
    "neg_array = np.asarray(neg_count)\n",
    "neg_norm = (neg_array - neg_array.min())/ (neg_array.max() - neg_array.min())"
   ]
  },
  {
   "cell_type": "code",
   "execution_count": 84,
   "id": "5a3822ae",
   "metadata": {},
   "outputs": [],
   "source": [
    "vecsdf['neg_norm']=neg_norm\n",
    "vecs2df['neg_norm']=neg_norm"
   ]
  },
  {
   "cell_type": "code",
   "execution_count": 85,
   "id": "024ae98b",
   "metadata": {},
   "outputs": [],
   "source": [
    "svm13 = LinearSVC(C=1)\n",
    "mnb13 = MultinomialNB()\n",
    "#train model\n",
    "#svm_model_http = svm9.fit(vecs2df,y)\n",
    "#cross validation score\n",
    "svm_cv_scores_neg = cross_val_score(svm13, vecsdf, y, cv=10)\n",
    "mnb_cv_scores_neg = cross_val_score(mnb13, vecs2df, y, cv=10)\n",
    "#finding the overall average accuracy.\n",
    "svm_cv_score_neg = np.mean(svm_cv_scores_neg)\n",
    "mnb_cv_score_neg = np.mean(mnb_cv_scores_neg)\n",
    "#print('sent svm Accuracy:',svm_cv_score_sent)\n",
    "svm_fs_accurracy['Neg svm Accuracy']=svm_cv_score_neg\n",
    "mnb_fs_accurracy['Neg mnb Accuracy']=mnb_cv_score_neg"
   ]
  },
  {
   "cell_type": "code",
   "execution_count": 86,
   "id": "e924547c",
   "metadata": {},
   "outputs": [],
   "source": [
    "vecsdf.drop('neg_norm',axis=1,inplace=True)\n",
    "vecs2df.drop('neg_norm',axis=1,inplace=True)"
   ]
  },
  {
   "cell_type": "code",
   "execution_count": 87,
   "id": "6d80e110",
   "metadata": {},
   "outputs": [
    {
     "name": "stdout",
     "output_type": "stream",
     "text": [
      "Original mnb Accuracy : 0.6409752547307133\n",
      "HTTP Count mnb Accuracy : 0.652037845705968\n",
      "Emo Count mnb Accuracy : 0.6524381368267831\n",
      "Sent mnb Accuracy : 0.6526564774381367\n",
      "Word mnb Accuracy : 0.6524381368267831\n",
      "Neg mnb Accuracy : 0.6537117903930131\n"
     ]
    }
   ],
   "source": [
    "for key,value in mnb_fs_accurracy.items():\n",
    "    print(key,':',value)"
   ]
  },
  {
   "cell_type": "code",
   "execution_count": 88,
   "id": "4db89941",
   "metadata": {},
   "outputs": [
    {
     "name": "stdout",
     "output_type": "stream",
     "text": [
      "Original svm Accuracy : 0.6930494905385736\n",
      "HTTP Count svm Accuracy : 0.693122270742358\n",
      "Emo Count svm Accuracy : 0.6940320232896653\n",
      "Sent svm Accuracy : 0.6925400291120816\n",
      "Word svm Accuracy : 0.6940320232896652\n",
      "Neg svm Accuracy : 0.6946506550218341\n"
     ]
    }
   ],
   "source": [
    "for key,value in svm_fs_accurracy.items():\n",
    "    print(key,':',value)"
   ]
  },
  {
   "cell_type": "markdown",
   "id": "5fbec7a6",
   "metadata": {},
   "source": [
    "## adding best 2 feature sets"
   ]
  },
  {
   "cell_type": "code",
   "execution_count": 89,
   "id": "e3720cca",
   "metadata": {},
   "outputs": [],
   "source": [
    "vecs2df['word_norm']=word_norm\n",
    "vecs2df['neg_norm']=neg_norm"
   ]
  },
  {
   "cell_type": "code",
   "execution_count": 90,
   "id": "902857e9",
   "metadata": {},
   "outputs": [],
   "source": [
    "vecsdf['neg_norm']=neg_norm\n",
    "vecsdf['word_norm']=word_norm"
   ]
  },
  {
   "cell_type": "code",
   "execution_count": 91,
   "id": "8c69120c",
   "metadata": {},
   "outputs": [],
   "source": [
    "svm14 = LinearSVC(C=1)\n",
    "mnb14 = MultinomialNB()\n",
    "#train model\n",
    "#svm_model_http = svm9.fit(vecs2df,y)\n",
    "#cross validation score\n",
    "svm_cv_scores_final = cross_val_score(svm14, vecsdf, y, cv=10)\n",
    "mnb_cv_scores_final = cross_val_score(mnb14, vecs2df, y, cv=10)\n",
    "#finding the overall average accuracy.\n",
    "svm_cv_score_final = np.mean(svm_cv_scores_final)\n",
    "mnb_cv_score_final = np.mean(mnb_cv_scores_final)\n",
    "#print('sent svm Accuracy:',svm_cv_score_sent)\n",
    "svm_fs_accurracy['Final svm Accuracy']=svm_cv_score_final\n",
    "mnb_fs_accurracy['Final mnb Accuracy']=mnb_cv_score_final"
   ]
  },
  {
   "cell_type": "code",
   "execution_count": 92,
   "id": "3303c193",
   "metadata": {},
   "outputs": [
    {
     "name": "stdout",
     "output_type": "stream",
     "text": [
      "Original mnb Accuracy : 0.6409752547307133\n",
      "HTTP Count mnb Accuracy : 0.652037845705968\n",
      "Emo Count mnb Accuracy : 0.6524381368267831\n",
      "Sent mnb Accuracy : 0.6526564774381367\n",
      "Word mnb Accuracy : 0.6524381368267831\n",
      "Neg mnb Accuracy : 0.6537117903930131\n",
      "Final mnb Accuracy : 0.6528384279475983\n"
     ]
    }
   ],
   "source": [
    "for key,value in mnb_fs_accurracy.items():\n",
    "    print(key,':',value)"
   ]
  },
  {
   "cell_type": "code",
   "execution_count": 93,
   "id": "013ed57d",
   "metadata": {},
   "outputs": [
    {
     "name": "stdout",
     "output_type": "stream",
     "text": [
      "Original svm Accuracy : 0.6930494905385736\n",
      "HTTP Count svm Accuracy : 0.693122270742358\n",
      "Emo Count svm Accuracy : 0.6940320232896653\n",
      "Sent svm Accuracy : 0.6925400291120816\n",
      "Word svm Accuracy : 0.6940320232896652\n",
      "Neg svm Accuracy : 0.6946506550218341\n",
      "Final svm Accuracy : 0.6955240174672489\n"
     ]
    }
   ],
   "source": [
    "for key,value in svm_fs_accurracy.items():\n",
    "    print(key,':',value)"
   ]
  },
  {
   "cell_type": "markdown",
   "id": "5d6538f1",
   "metadata": {},
   "source": [
    "## Graphing"
   ]
  },
  {
   "cell_type": "code",
   "execution_count": 95,
   "id": "08177fcd",
   "metadata": {},
   "outputs": [
    {
     "data": {
      "image/png": "[encoded data removed]",
      "text/plain": [
       "<Figure size 4320x720 with 1 Axes>"
      ]
     },
     "metadata": {
      "needs_background": "light"
     },
     "output_type": "display_data"
    }
   ],
   "source": [
    "import matplotlib.pyplot as plt\n",
    "\n",
    "# function to add value labels\n",
    "def addlabels(y):\n",
    "    for i in range(len(y)):\n",
    "        plt.text(i,y[i],y[i],fontweight = 'bold')\n",
    "\n",
    "\n",
    "values = list(mnb_fs_accurracy.values())\n",
    "names = list(mnb_fs_accurracy.keys())\n",
    "colors = ['blue','blue','blue','blue','blue','blue','blue','blue'\n",
    "         \n",
    "]\n",
    "plt.figure(figsize=(60, 10))\n",
    "\n",
    "plt.subplot(121)\n",
    "plt.bar(names\n",
    "        ,values\n",
    "        ,color= colors\n",
    "       )\n",
    "\n",
    "plt.xticks(rotation= 45)\n",
    "plt.ylabel('Percent')\n",
    "plt.xlabel('Feature Set')\n",
    "plt.title('MNB Feature Set Accuracy')\n",
    "\n",
    "addlabels(values)\n",
    "plt.show()"
   ]
  },
  {
   "cell_type": "code",
   "execution_count": 97,
   "id": "f90445c2",
   "metadata": {},
   "outputs": [
    {
     "data": {
      "image/png": "[encoded data removed]",
      "text/plain": [
       "<Figure size 4320x720 with 1 Axes>"
      ]
     },
     "metadata": {
      "needs_background": "light"
     },
     "output_type": "display_data"
    }
   ],
   "source": [
    "import matplotlib.pyplot as plt\n",
    "\n",
    "# function to add value labels\n",
    "def addlabels(y):\n",
    "    for i in range(len(y)):\n",
    "        plt.text(i,y[i],y[i],fontweight = 'bold')\n",
    "\n",
    "\n",
    "values = list(svm_fs_accurracy.values())\n",
    "names = list(svm_fs_accurracy.keys())\n",
    "colors = ['red','red','red','red','red','red','red','red'\n",
    "         \n",
    "]\n",
    "plt.figure(figsize=(60, 10))\n",
    "\n",
    "plt.subplot(121)\n",
    "plt.bar(names\n",
    "        ,values\n",
    "        ,color= colors\n",
    "       )\n",
    "\n",
    "plt.xticks(rotation= 45)\n",
    "plt.ylabel('Percent')\n",
    "plt.xlabel('Feature Set')\n",
    "plt.title('SVM Feature Set Accuracy')\n",
    "\n",
    "addlabels(values)\n",
    "plt.show()"
   ]
  }
 ],
 "metadata": {
  "kernelspec": {
   "display_name": "Python 3 (ipykernel)",
   "language": "python",
   "name": "python3"
  },
  "language_info": {
   "codemirror_mode": {
    "name": "ipython",
    "version": 3
   },
   "file_extension": ".py",
   "mimetype": "text/x-python",
   "name": "python",
   "nbconvert_exporter": "python",
   "pygments_lexer": "ipython3",
   "version": "3.8.8"
  }
 },
 "nbformat": 4,
 "nbformat_minor": 5
}
