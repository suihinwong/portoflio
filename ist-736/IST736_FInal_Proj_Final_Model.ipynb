{
 "cells": [
  {
   "cell_type": "markdown",
   "id": "0b25475a",
   "metadata": {},
   "source": [
    "## Input"
   ]
  },
  {
   "cell_type": "code",
   "execution_count": 2,
   "id": "8e4816fc",
   "metadata": {},
   "outputs": [],
   "source": [
    "import pandas as pd\n",
    "df = pd.read_csv(r'Tweets.csv')"
   ]
  },
  {
   "cell_type": "code",
   "execution_count": 45,
   "id": "5bf1570a-e7bb-4cc0-bd18-9116174fc4ad",
   "metadata": {},
   "outputs": [],
   "source": [
    "import matplotlib.pyplot as plt"
   ]
  },
  {
   "cell_type": "code",
   "execution_count": 3,
   "id": "91f4f885",
   "metadata": {},
   "outputs": [],
   "source": [
    "# Dropping the row \n",
    "df.drop([314], inplace = True)"
   ]
  },
  {
   "cell_type": "markdown",
   "id": "d5b74c47",
   "metadata": {},
   "source": [
    "## Preprocessing"
   ]
  },
  {
   "cell_type": "code",
   "execution_count": 4,
   "id": "d8f7cf8e",
   "metadata": {},
   "outputs": [],
   "source": [
    "#seperating the label\n",
    "y=df['sentiment'].values\n",
    "M=df['text'].tolist()"
   ]
  },
  {
   "cell_type": "code",
   "execution_count": 5,
   "id": "dcc8b1a5",
   "metadata": {},
   "outputs": [],
   "source": [
    "import re\n",
    "X1=[]\n",
    "for item in M:\n",
    "    X1.append(re.sub(r'([a-zA-Z0-9_<>-])\\1+', r'\\1\\1', item))"
   ]
  },
  {
   "cell_type": "code",
   "execution_count": 6,
   "id": "3d3e3e97",
   "metadata": {},
   "outputs": [],
   "source": [
    "tempX=[]\n",
    "for item in X1:\n",
    "    iteml=item.lower()\n",
    "    item1=iteml.replace('2day ','today ')\n",
    "    item2=item1.replace('2moro ','tomorrow ')\n",
    "    item3=item2.replace('2morrow ','tomorrow ')\n",
    "    item4=item3.replace('2night ','tonight ')\n",
    "    item5=item4.replace('2nite ','tonight ')\n",
    "    item6=item5.replace('b-day ','birthday ')\n",
    "    item7=item6.replace('b4 ','before ')\n",
    "    item8=item7.replace('bb ','be back ')\n",
    "    item9=item8.replace('bbl ','be back later ')\n",
    "    item10=item9.replace('bc ','because ')\n",
    "    item11=item10.replace('bday ','birthday ')\n",
    "    item12=item11.replace('belive ','believe ')\n",
    "    item13=item12.replace('bf ','boyfriend ')\n",
    "    item14=item13.replace('bff ','best freind forever ')\n",
    "    item15=item14.replace('brb ','be right back ')\n",
    "    item16=item15.replace('bros ','bro ')\n",
    "    item17=item16.replace('bs ','bullshit ')\n",
    "    item18=item17.replace('btw ','by the way ')\n",
    "    item19=item18.replace('dat ','that ')\n",
    "    item20=item19.replace('doc ','doctor ')\n",
    "    item21=item20.replace('docs ','doctor ')\n",
    "    item22=item21.replace('hott ','hot ')\n",
    "    item23=item22.replace('fb ','facebook ')\n",
    "    item24=item23.replace('jk ','just kidding ')\n",
    "    item25=item24.replace('jst ','just ')\n",
    "    item26=item25.replace(' ng ',' nice game ')\n",
    "    item27=item26.replace('nt ','nice try ')\n",
    "    item28=item27.replace('ok ','okay ')\n",
    "    item29=item28.replace('okayy ','okay ')\n",
    "    item30=item29.replace('omgg ','omg ')\n",
    "    item31=item30.replace('ppl ','people ')\n",
    "    item32=item31.replace('tonite ','tonight ')\n",
    "    item33=item32.replace(' u ',' you ')\n",
    "    item34=item33.replace('u2 ','you too ')\n",
    "    item35=item34.replace('ugg ','ugh ')\n",
    "    item36=item35.replace('uggh ','ugh ')\n",
    "    item37=item36.replace('uh ','ugh ')\n",
    "    item38=item37.replace('uhh ','ugh ')\n",
    "    item39=item38.replace('umm ','um ')\n",
    "    item40=item39.replace('ur ','your ')\n",
    "    item41=item40.replace('waah ','waa ')\n",
    "    item42=item41.replace('wah ','waa ')\n",
    "    item43=item42.replace('waay ','waa ')\n",
    "    item44=item43.replace('xoxo ','xo ')\n",
    "    item45=item44.replace('xx ','xo ')\n",
    "    item46=item45.replace(' y ',' why ')\n",
    "    item47=item46.replace('whyy ','why ')\n",
    "    item48=item47.replace('yaay ','ya ')\n",
    "    item49=item48.replace('yah ','ya ')\n",
    "    item50=item49.replace('juss ','just ')\n",
    "    item51=item50.replace('whassqoodd ','whats good') \n",
    "    item52=item51.replace('soo ','so ')\n",
    "    tempX.append(item52)"
   ]
  },
  {
   "cell_type": "code",
   "execution_count": 7,
   "id": "17a0f1ad",
   "metadata": {},
   "outputs": [],
   "source": [
    "# import TweetTokenizer() method from nltk\n",
    "from nltk.tokenize import TweetTokenizer\n",
    "tk = TweetTokenizer()"
   ]
  },
  {
   "cell_type": "code",
   "execution_count": 8,
   "id": "d9515b42",
   "metadata": {},
   "outputs": [],
   "source": [
    "# create a function for the tweet tokenizer from NLTK\n",
    "def tok(text):\n",
    "    tt = TweetTokenizer()\n",
    "    return tt.tokenize(text)"
   ]
  },
  {
   "cell_type": "code",
   "execution_count": 9,
   "id": "5fede2b4",
   "metadata": {},
   "outputs": [],
   "source": [
    "#selecting the stop words\n",
    "stopwords =['!','#','$','%','&',\"'\",'*','(',')','+', ',','-','.','/',':',';','<','=','>'\n",
    "              ,'?','@','[','\\\\',']','^','_','`','{','|','}','~','¿','#bgt','#fail','#fb'\n",
    "              ,'#ff','#followfriday','#hhrs','#judday','#sanctuarysunday','#starwarsday'\n",
    "              ,'#twpp','>','_','_127','__','_b','_benson','_c','_carter','_d','_guy','_henrie'\n",
    "              ,'_j','_m','_marie','_skies','_x','_xo']"
   ]
  },
  {
   "cell_type": "code",
   "execution_count": 10,
   "id": "757c8997",
   "metadata": {},
   "outputs": [],
   "source": [
    "# creating a function for the pipeline to remove stop words\n",
    "def remove_stop(tokens):\n",
    "    return [t for t in tokens if t not in stopwords]"
   ]
  },
  {
   "cell_type": "code",
   "execution_count": 11,
   "id": "44932712",
   "metadata": {},
   "outputs": [],
   "source": [
    "# creating a function to use each function from the pipeline on the texts\n",
    "def prepare(text, pipeline):\n",
    "    tokens = text\n",
    "    for transform in pipeline:\n",
    "        tokens = transform(tokens)\n",
    "    return tokens     "
   ]
  },
  {
   "cell_type": "code",
   "execution_count": 12,
   "id": "e7ca39d6",
   "metadata": {},
   "outputs": [],
   "source": [
    "# selecting the functions for the pipeline\n",
    "pipeline = [tok,remove_stop,]\n",
    "# using the pipelined list of functions.\n",
    "Xtemp=[]\n",
    "for tweet in tempX:\n",
    "    Xtemp.append(prepare(tweet,pipeline))"
   ]
  },
  {
   "cell_type": "code",
   "execution_count": 13,
   "id": "c0f19087",
   "metadata": {},
   "outputs": [],
   "source": [
    "#creating a new list\n",
    "X=[]\n",
    "#joining the lists of lists\n",
    "#so a list of stirngs remains\n",
    "for tweet in Xtemp:\n",
    "    X.append(' '.join(tweet))"
   ]
  },
  {
   "cell_type": "markdown",
   "id": "f3014c14",
   "metadata": {},
   "source": [
    "## New feature set vectorization and df creation"
   ]
  },
  {
   "cell_type": "code",
   "execution_count": 14,
   "id": "b2fc1d95",
   "metadata": {},
   "outputs": [],
   "source": [
    "from nltk.stem.porter import PorterStemmer\n",
    "from sklearn.feature_extraction.text import TfidfVectorizer\n",
    "stemmer = PorterStemmer()\n",
    "analyzer = TfidfVectorizer().build_analyzer()\n",
    "\n",
    "def stemmed_words(doc):\n",
    "    return (stemmer.stem(w) for w in analyzer(doc))"
   ]
  },
  {
   "cell_type": "code",
   "execution_count": 15,
   "id": "3498c8ea",
   "metadata": {},
   "outputs": [],
   "source": [
    "\n",
    "from sklearn.model_selection import cross_val_score\n",
    "from sklearn.feature_extraction.text import TfidfVectorizer\n",
    "unigram_tfidf_vectorizer_Tweet_toke_no_stop_stem = TfidfVectorizer(encoding='latin-1'\n",
    "                                                                   , use_idf=True\n",
    "                                                                   , min_df=5\n",
    "                                                                   ,tokenizer=tok\n",
    "                                                                   ,analyzer=stemmed_words)\n",
    "#vectorizing using count\n",
    "vecs = unigram_tfidf_vectorizer_Tweet_toke_no_stop_stem.fit_transform(X)\n",
    "\n",
    "vecsdf=pd.DataFrame(vecs.toarray(),\n",
    "            columns=unigram_tfidf_vectorizer_Tweet_toke_no_stop_stem.get_feature_names_out())"
   ]
  },
  {
   "cell_type": "markdown",
   "id": "6722c19e",
   "metadata": {},
   "source": [
    "## new feature set word count"
   ]
  },
  {
   "cell_type": "code",
   "execution_count": 16,
   "id": "122ee325",
   "metadata": {},
   "outputs": [],
   "source": [
    "words=[]\n",
    "for review in X:\n",
    "    words.append(tok(review))"
   ]
  },
  {
   "cell_type": "code",
   "execution_count": 17,
   "id": "322aea32",
   "metadata": {},
   "outputs": [],
   "source": [
    "word_count =[]\n",
    "for review in words:\n",
    "    count =0\n",
    "    for word in review:\n",
    "        count=count+1\n",
    "    word_count.append(count)"
   ]
  },
  {
   "cell_type": "code",
   "execution_count": 18,
   "id": "1dac3d88",
   "metadata": {},
   "outputs": [],
   "source": [
    "import numpy as np\n",
    "word_array = np.asarray(word_count)\n",
    "word_norm = (word_array - word_array.min())/ (word_array.max() - word_array.min())"
   ]
  },
  {
   "cell_type": "code",
   "execution_count": 19,
   "id": "d37e4589",
   "metadata": {},
   "outputs": [],
   "source": [
    "vecsdf['word_norm']=word_norm"
   ]
  },
  {
   "cell_type": "markdown",
   "id": "b966622f",
   "metadata": {},
   "source": [
    "## Negation"
   ]
  },
  {
   "cell_type": "code",
   "execution_count": 20,
   "id": "940fb0e3",
   "metadata": {},
   "outputs": [],
   "source": [
    "import re\n",
    "def has_negation(post):\n",
    "    pattern_neg_1 = re.compile(r'\\b(not|no|never)\\b')\n",
    "    pattern_neg_2 = re.compile(r'\\b([a-z]+less)\\b')\n",
    "    if pattern_neg_1.search(post.lower()) or pattern_neg_2.search(post.lower()):\n",
    "        return 1\n",
    "    else: \n",
    "        return 0"
   ]
  },
  {
   "cell_type": "code",
   "execution_count": 21,
   "id": "037ae181",
   "metadata": {},
   "outputs": [],
   "source": [
    "neg_count=[]\n",
    "for item in X:\n",
    "    neg_count.append(has_negation(item))"
   ]
  },
  {
   "cell_type": "code",
   "execution_count": 22,
   "id": "7f45e43a",
   "metadata": {},
   "outputs": [],
   "source": [
    "neg_array = np.asarray(neg_count)\n",
    "neg_norm = (neg_array - neg_array.min())/ (neg_array.max() - neg_array.min())"
   ]
  },
  {
   "cell_type": "code",
   "execution_count": 23,
   "id": "0e0886ba",
   "metadata": {},
   "outputs": [],
   "source": [
    "vecsdf['neg_norm']=neg_norm"
   ]
  },
  {
   "cell_type": "code",
   "execution_count": 24,
   "id": "8d32ccb4",
   "metadata": {},
   "outputs": [],
   "source": [
    "from sklearn.svm import SVC\n",
    "svc = SVC(C=1, kernel='linear')"
   ]
  },
  {
   "cell_type": "code",
   "execution_count": 25,
   "id": "e6a6e2c7",
   "metadata": {},
   "outputs": [],
   "source": [
    "from sklearn.metrics import f1_score\n",
    "from sklearn.metrics import make_scorer\n",
    "import numpy as np\n",
    "svm_model_final = svc.fit(vecsdf,y)"
   ]
  },
  {
   "cell_type": "code",
   "execution_count": 26,
   "id": "44111e07",
   "metadata": {},
   "outputs": [],
   "source": [
    "svm_cv_scores_final = cross_val_score(svc, vecsdf, y, cv=5)"
   ]
  },
  {
   "cell_type": "code",
   "execution_count": 27,
   "id": "bdc02e58",
   "metadata": {},
   "outputs": [],
   "source": [
    "svm_cv_neu_f_scores_final = cross_val_score(svc,vecsdf, y,scoring=make_scorer(f1_score, average='weighted', labels=['neutral']),cv=5)"
   ]
  },
  {
   "cell_type": "code",
   "execution_count": 28,
   "id": "f843cf32",
   "metadata": {},
   "outputs": [],
   "source": [
    "svm_cv_neg_f_scores_final = cross_val_score(svc,vecsdf, y,scoring=make_scorer(f1_score, average='weighted', labels=['negative']),cv=5)"
   ]
  },
  {
   "cell_type": "code",
   "execution_count": 29,
   "id": "56a7dc68",
   "metadata": {},
   "outputs": [],
   "source": [
    "svm_cv_pos_f_scores_final = cross_val_score(svc,vecsdf, y,scoring=make_scorer(f1_score, average='weighted', labels=['positive']),cv=5)"
   ]
  },
  {
   "cell_type": "code",
   "execution_count": 30,
   "id": "8c429b7f",
   "metadata": {},
   "outputs": [],
   "source": [
    "svm_cv_score_final = np.mean(svm_cv_scores_final)\n",
    "svm_cv_neu_f_score_final = round(np.mean(svm_cv_neu_f_scores_final),5)\n",
    "svm_cv_neg_f_score_final = round(np.mean(svm_cv_neg_f_scores_final),5)\n",
    "svm_cv_pos_f_score_final = round(np.mean(svm_cv_pos_f_scores_final),5)"
   ]
  },
  {
   "cell_type": "code",
   "execution_count": 31,
   "id": "48381d97",
   "metadata": {},
   "outputs": [
    {
     "name": "stdout",
     "output_type": "stream",
     "text": [
      "final accuracy: 0.7146652110625908\n",
      "final neutral f score: 0.70677\n",
      "final negative f score: 0.67853\n",
      "final positive f score: 0.75833\n"
     ]
    }
   ],
   "source": [
    "print('final accuracy:',svm_cv_score_final)\n",
    "print('final neutral f score:',svm_cv_neu_f_score_final )\n",
    "print('final negative f score:', svm_cv_neg_f_score_final)\n",
    "print('final positive f score:',svm_cv_pos_f_score_final )"
   ]
  },
  {
   "cell_type": "code",
   "execution_count": 38,
   "id": "41f208bc",
   "metadata": {},
   "outputs": [
    {
     "name": "stdout",
     "output_type": "stream",
     "text": [
      "(3.1784691494256805, 'terribl')\n",
      "(3.204760283961159, 'wrong')\n",
      "(3.226268739648617, 'die')\n",
      "(3.229236189976712, 'lost')\n",
      "(3.241970125686123, 'kill')\n",
      "(3.252579188058756, 'disappoint')\n",
      "(3.305215099124725, 'ugh')\n",
      "(3.364549776146055, 'afraid')\n",
      "(3.397811011166276, 'piss')\n",
      "(3.413707168192878, 'dammit')\n",
      "(3.467092284431608, 'feel')\n",
      "(3.524410789968554, 'hard')\n",
      "(3.586874609140475, 'headach')\n",
      "(3.771460493207064, 'cri')\n",
      "(3.7986371052240813, 'bad')\n",
      "(3.8372779721152015, 'wtf')\n",
      "(3.853507822268279, 'worst')\n",
      "(3.895827064140285, 'tire')\n",
      "(3.988445099914868, 'sadli')\n",
      "(4.184830232441888, 'sick')\n",
      "(4.186993116596083, 'hurt')\n",
      "(4.220091433475577, 'poor')\n",
      "(4.364630946401505, 'bore')\n",
      "(5.043889997314054, 'stupid')\n",
      "(5.249058347232768, 'fail')\n",
      "(5.273234081630445, 'suck')\n",
      "(5.443930212829187, 'sorri')\n",
      "(5.641670082557145, 'hate')\n",
      "(5.730133142056516, 'sad')\n",
      "(6.445395623276589, 'miss')\n"
     ]
    }
   ],
   "source": [
    "feature_ranks = sorted(zip(svc.coef_[0], unigram_tfidf_vectorizer_Tweet_toke_no_stop_stem.get_feature_names_out()))\n",
    "negative_features = feature_ranks[-30:]\n",
    "for i in negative_features:\n",
    "    print(i)"
   ]
  },
  {
   "cell_type": "code",
   "execution_count": 39,
   "id": "8c4d6d34",
   "metadata": {},
   "outputs": [
    {
     "name": "stdout",
     "output_type": "stream",
     "text": [
      "(2.0857589266099374, 'gut')\n",
      "(2.0860663503157575, 'unfortun')\n",
      "(2.138044787351576, 'headach')\n",
      "(2.195578802853793, 'mess')\n",
      "(2.2079102349765374, 'depress')\n",
      "(2.216545077949718, 'don')\n",
      "(2.238883127949649, 'ugli')\n",
      "(2.3663898421048204, 'disappoint')\n",
      "(2.406464372801823, 'sadli')\n",
      "(2.562937179300522, 'wrong')\n",
      "(2.5763148229356014, 'jealou')\n",
      "(2.651388341501538, 'lost')\n",
      "(2.686645851211817, 'ugh')\n",
      "(2.7114432216136906, 'worst')\n",
      "(2.794365815500079, 'doesn')\n",
      "(2.8067143108733044, 'hard')\n",
      "(2.858110843529457, 'sick')\n",
      "(2.9929561458590435, 'hurt')\n",
      "(3.0525415854327225, 'bad')\n",
      "(3.092505511262141, 'tire')\n",
      "(3.340466244838611, 'fail')\n",
      "(3.368835972220917, 'stupid')\n",
      "(3.444589920037217, 'poor')\n",
      "(3.7408656847487833, 'not')\n",
      "(4.030081330602095, 'bore')\n",
      "(4.173797116069788, 'suck')\n",
      "(4.602688741059809, 'hate')\n",
      "(4.6625599825215005, 'sorri')\n",
      "(5.165939358417438, 'sad')\n",
      "(5.547082716182128, 'miss')\n"
     ]
    }
   ],
   "source": [
    "feature_ranks = sorted(zip(svc.coef_[1], unigram_tfidf_vectorizer_Tweet_toke_no_stop_stem.get_feature_names_out()))\n",
    "neutral_features = feature_ranks[-30:]\n",
    "for i in neutral_features:\n",
    "    print(i)"
   ]
  },
  {
   "cell_type": "code",
   "execution_count": 40,
   "id": "b8204de8",
   "metadata": {},
   "outputs": [
    {
     "name": "stdout",
     "output_type": "stream",
     "text": [
      "(1.5935792061548617, 'afraid')\n",
      "(1.6632444518038378, 'rough')\n",
      "(1.6767897376240646, 'ugli')\n",
      "(1.6790407452650293, 'weren')\n",
      "(1.682758706645847, 'except')\n",
      "(1.6880508134267238, 'lame')\n",
      "(1.722765538624321, 'certainli')\n",
      "(1.7279681829706046, 'scare')\n",
      "(1.760847679407707, 'nervou')\n",
      "(1.7661222262195793, 'but')\n",
      "(1.8612178575030294, 'stuck')\n",
      "(1.8691120516671926, 'miser')\n",
      "(1.9079616797571257, 'horribl')\n",
      "(2.114194490581017, 'exhaust')\n",
      "(2.148708356648258, 'pain')\n",
      "(2.2023555001719775, 'broke')\n",
      "(2.775437898881879, 'poor')\n",
      "(2.7866817164540136, 'sadli')\n",
      "(3.1559857546487646, 'jealou')\n",
      "(3.329506525571229, 'unfortun')\n",
      "(3.6254574487138567, 'hate')\n",
      "(3.845921039054991, 'bad')\n",
      "(3.873038156477933, 'sick')\n",
      "(4.020757426357748, 'shame')\n",
      "(4.064026432633227, 'suck')\n",
      "(4.331288702451573, 'bore')\n",
      "(4.404962165737751, 'tire')\n",
      "(5.125207615694397, 'sorri')\n",
      "(5.519481674905419, 'miss')\n",
      "(5.693139838960056, 'sad')\n"
     ]
    }
   ],
   "source": [
    "feature_ranks = sorted(zip(svc.coef_[2], unigram_tfidf_vectorizer_Tweet_toke_no_stop_stem.get_feature_names_out()))\n",
    "positive_features = feature_ranks[-30:]\n",
    "for i in positive_features:\n",
    "    print(i)"
   ]
  },
  {
   "cell_type": "code",
   "execution_count": 41,
   "id": "41dc96c1-6fc8-4203-ba99-8879c498c8b7",
   "metadata": {},
   "outputs": [],
   "source": [
    "def f_importances(coef, names, top=-1):\n",
    "    imp = coef\n",
    "    imp, names = zip(*sorted(list(zip(imp, names))))\n",
    "\n",
    "    # Show all features\n",
    "    if top == -1:\n",
    "        top = len(names)\n",
    "\n",
    "    plt.barh(range(top), imp[::-1][0:top], align='center')\n",
    "    plt.yticks(range(top), names[::-1][0:top])\n",
    "    plt.show()"
   ]
  },
  {
   "cell_type": "code",
   "execution_count": 43,
   "id": "fa532d26-6068-4b8d-93d9-a2a6cdd43804",
   "metadata": {},
   "outputs": [],
   "source": [
    "feature_names = unigram_tfidf_vectorizer_Tweet_toke_no_stop_stem.get_feature_names_out()"
   ]
  },
  {
   "cell_type": "code",
   "execution_count": 56,
   "id": "4f9d1bb1-4bc6-4351-9511-a310df654a9f",
   "metadata": {},
   "outputs": [],
   "source": [
    "final_model_dict = {}"
   ]
  },
  {
   "cell_type": "code",
   "execution_count": 59,
   "id": "a53c50f6-7d02-4dfa-b832-3af128530f79",
   "metadata": {},
   "outputs": [],
   "source": [
    "\n",
    "final_model_dict['svm_cv_scores_final']=svm_cv_score_final\n",
    "final_model_dict['svm_cv_neg_f_scores_final']=svm_cv_neg_f_score_final\n",
    "final_model_dict['svm_cv_neu_f_scores_final']=svm_cv_neu_f_score_final\n",
    "final_model_dict['svm_cv_pos_f_scores_final']=svm_cv_pos_f_score_final\n",
    "\n"
   ]
  },
  {
   "cell_type": "code",
   "execution_count": 60,
   "id": "69cb8918-0c47-474c-9b6e-e69503bb084d",
   "metadata": {},
   "outputs": [
    {
     "name": "stdout",
     "output_type": "stream",
     "text": [
      "svm_cv_scores_final 0.7146652110625908\n",
      "svm_cv_neg_f_scores_final 0.67853\n",
      "svm_cv_neu_f_scores_final 0.70677\n",
      "svm_cv_pos_f_scores_final 0.75833\n"
     ]
    }
   ],
   "source": [
    "for i,v in final_model_dict.items():\n",
    "    print(i,v)"
   ]
  },
  {
   "cell_type": "code",
   "execution_count": 64,
   "id": "8a9663e5-a4e8-42ab-b407-53b029c95ea2",
   "metadata": {},
   "outputs": [],
   "source": [
    "values = list(final_model_dict.values())"
   ]
  },
  {
   "cell_type": "code",
   "execution_count": 69,
   "id": "de465c40-9f95-4e0d-9196-a4c620c71dd5",
   "metadata": {
    "tags": []
   },
   "outputs": [
    {
     "data": {
      "image/png": "[encoded data removed]",
      "text/plain": [
       "<Figure size 5760x720 with 1 Axes>"
      ]
     },
     "metadata": {
      "needs_background": "light"
     },
     "output_type": "display_data"
    }
   ],
   "source": [
    "import matplotlib.pyplot as plt\n",
    "\n",
    "\n",
    "\n",
    "\n",
    "values = list(final_model_dict.values())\n",
    "names = list(final_model_dict.keys())\n",
    "colors = ['red','red','red','red']\n",
    "plt.figure(figsize=(80, 10))\n",
    "\n",
    "\n",
    "\n",
    "plt.subplot(121)\n",
    "plt.bar(names,values,color= colors)\n",
    "\n",
    "\n",
    "\n",
    "plt.xticks(rotation= 45)\n",
    "plt.ylabel('Percent')\n",
    "plt.xlabel('Feature Set')\n",
    "plt.title('SVM Final Model Accuracy and F1-Scores')\n",
    "\n",
    "\n",
    "\n",
    "\n",
    "plt.show()"
   ]
  },
  {
   "cell_type": "code",
   "execution_count": 46,
   "id": "1dafd03e-e4bf-4647-96f5-da3b2b023b26",
   "metadata": {},
   "outputs": [
    {
     "data": {
      "image/png": "[encoded data removed]",
      "text/plain": [
       "<Figure size 432x288 with 1 Axes>"
      ]
     },
     "metadata": {
      "needs_background": "light"
     },
     "output_type": "display_data"
    }
   ],
   "source": [
    "f_importances(abs(svm_model_final.coef_[0]), feature_names, top=10)"
   ]
  },
  {
   "cell_type": "code",
   "execution_count": null,
   "id": "98c53640-5343-41a6-9dd4-059df7dee52e",
   "metadata": {},
   "outputs": [],
   "source": []
  }
 ],
 "metadata": {
  "kernelspec": {
   "display_name": "Python 3 (ipykernel)",
   "language": "python",
   "name": "python3"
  },
  "language_info": {
   "codemirror_mode": {
    "name": "ipython",
    "version": 3
   },
   "file_extension": ".py",
   "mimetype": "text/x-python",
   "name": "python",
   "nbconvert_exporter": "python",
   "pygments_lexer": "ipython3",
   "version": "3.9.7"
  }
 },
 "nbformat": 4,
 "nbformat_minor": 5
}
