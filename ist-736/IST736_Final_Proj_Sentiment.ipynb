{
 "cells": [
  {
   "cell_type": "markdown",
   "id": "418455ea",
   "metadata": {},
   "source": [
    "## Input"
   ]
  },
  {
   "cell_type": "code",
   "execution_count": 2,
   "id": "b7efdd21",
   "metadata": {},
   "outputs": [],
   "source": [
    "import pandas as pd\n",
    "df = pd.read_csv(r'C:\\Users\\Morga\\programsMG\\TextMining\\Tweets.csv')"
   ]
  },
  {
   "cell_type": "code",
   "execution_count": 3,
   "id": "43ddb4e6",
   "metadata": {},
   "outputs": [],
   "source": [
    "# Dropping the row \n",
    "df.drop([314], inplace = True)"
   ]
  },
  {
   "cell_type": "code",
   "execution_count": 10,
   "id": "fc8e775e",
   "metadata": {},
   "outputs": [
    {
     "data": {
      "text/plain": [
       "neutral     0.404549\n",
       "positive    0.312300\n",
       "negative    0.283151\n",
       "Name: sentiment, dtype: float64"
      ]
     },
     "execution_count": 10,
     "metadata": {},
     "output_type": "execute_result"
    }
   ],
   "source": [
    "# Finding the raw agreement vs baseline\n",
    "df['sentiment'].value_counts(normalize=True)"
   ]
  },
  {
   "cell_type": "code",
   "execution_count": 9,
   "id": "37bb8f36",
   "metadata": {},
   "outputs": [
    {
     "data": {
      "text/plain": [
       "0.40454876273653567"
      ]
     },
     "execution_count": 9,
     "metadata": {},
     "output_type": "execute_result"
    }
   ],
   "source": [
    "# Finding the raw agreement\n",
    "11117/sum(df['sentiment'].value_counts())"
   ]
  },
  {
   "cell_type": "code",
   "execution_count": 4,
   "id": "76336020",
   "metadata": {},
   "outputs": [],
   "source": [
    "M=df['text'].tolist()\n",
    "y=df['sentiment'].tolist()"
   ]
  },
  {
   "cell_type": "code",
   "execution_count": 11,
   "id": "74e3c1be",
   "metadata": {},
   "outputs": [
    {
     "name": "stdout",
     "output_type": "stream",
     "text": [
      "0.6390465793304221\n"
     ]
    }
   ],
   "source": [
    "import nltk\n",
    "from nltk.sentiment.vader import SentimentIntensityAnalyzer\n",
    "\n",
    "#selecting sentiment analyzer\n",
    "sid = SentimentIntensityAnalyzer()\n",
    "vader_predict=[]\n",
    "\n",
    "#Dividing the tweets according to compond score\n",
    "for tweet in M:\n",
    "    if (sid.polarity_scores((tweet))['compound']) >= 0.4:\n",
    "        vader_predict.append('positive')\n",
    "        \n",
    "    elif (sid.polarity_scores((tweet))['compound']) <= -0.4:\n",
    "        vader_predict.append('negative')\n",
    "        \n",
    "    else:\n",
    "        vader_predict.append('neutral')    \n",
    "# finding the accuracy of vader vs gold standard\n",
    "from sklearn.metrics import accuracy_score\n",
    "print(accuracy_score(y, vader_predict))"
   ]
  },
  {
   "cell_type": "code",
   "execution_count": 7,
   "id": "980e24da",
   "metadata": {},
   "outputs": [
    {
     "data": {
      "text/plain": [
       "0.6390465793304221"
      ]
     },
     "execution_count": 7,
     "metadata": {},
     "output_type": "execute_result"
    }
   ],
   "source": [
    "from sklearn.metrics import accuracy_score\n",
    "print(accuracy_score(y, vader_predict))\n",
    "    "
   ]
  }
 ],
 "metadata": {
  "kernelspec": {
   "display_name": "Python 3 (ipykernel)",
   "language": "python",
   "name": "python3"
  },
  "language_info": {
   "codemirror_mode": {
    "name": "ipython",
    "version": 3
   },
   "file_extension": ".py",
   "mimetype": "text/x-python",
   "name": "python",
   "nbconvert_exporter": "python",
   "pygments_lexer": "ipython3",
   "version": "3.8.8"
  }
 },
 "nbformat": 4,
 "nbformat_minor": 5
}
